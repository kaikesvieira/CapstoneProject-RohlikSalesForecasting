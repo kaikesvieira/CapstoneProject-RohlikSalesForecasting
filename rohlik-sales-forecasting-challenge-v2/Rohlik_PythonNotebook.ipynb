{
 "cells": [
  {
   "cell_type": "markdown",
   "metadata": {
    "id": "8sjm8lBaLOem"
   },
   "source": [
    "# 1. Overview"
   ]
  },
  {
   "cell_type": "markdown",
   "metadata": {
    "id": "6mnioeyRLOeo"
   },
   "source": [
    "## Description\n",
    "\n",
    "**Why This Matters**\n",
    "\n",
    "Accurate sales forecasts are crucial for planning process, supply chain processes, delivery logistics and inventory management. By optimizing forecasts, we can minimize waste and streamline operations, making our e-grocery services more sustainable and efficient.\n",
    "\n",
    "**Your Impact**\n",
    "\n",
    "Your participation in this challenge will directly contribute to Rohlik mission of sustainable and efficient e-grocery delivery. Your insights will help us enhance customer service and achieve a greener future."
   ]
  },
  {
   "cell_type": "markdown",
   "metadata": {
    "id": "tvhPlaLJLOep"
   },
   "source": [
    "We are relaunching the Challenge with prizes.\n",
    "\n",
    "Rohlik Group, a leading European e-grocery innovator, is revolutionising the food retail industry. We operate across 11 warehouses in Czech Republic, Germany, Austria, Hungary, and Romania.\n",
    "\n",
    "We are now transitioning from the Rohlik Orders Forecasting Challenge to the Rohlik Sales Forecasting Challenge, as we continue with our set of challenges. This challenge focuses on predicting the sales of each selected warehouse inventory for next 14 days using historical sales data."
   ]
  },
  {
   "cell_type": "markdown",
   "metadata": {
    "id": "cmwjnKCWLOer"
   },
   "source": [
    "## Evaluation\n",
    "\n",
    "Submissions are evaluated on Weighted Mean Absolute Error (WMAE) between the predicted sales and the actual sales. Weights for the test evaluation can be found in the Data section."
   ]
  },
  {
   "cell_type": "markdown",
   "metadata": {
    "id": "Wn10LuHRLOer"
   },
   "source": [
    "## Submission File\n",
    "\n",
    "For each ID in the test set, you must predict a probability for the TARGET variable. The file should contain a header and have the following format:\n",
    "\n",
    "id,sales_hat\n",
    "\n",
    "840_2024-06-10,12.01\n",
    "\n",
    "2317_2024-06-15,13.32\n",
    "\n",
    "738_2024-06-10,14.12\n",
    "\n",
    "3894_2024-06-11,3.03\n",
    "\n",
    "3393_2024-06-08,53.03\n"
   ]
  },
  {
   "cell_type": "markdown",
   "metadata": {
    "id": "SzQAZ8W-LOer"
   },
   "source": [
    "## Prizes\n",
    "Leaderboard prizes\n",
    "\n",
    "1st place - $4,000\n",
    "\n",
    "2nd place - $4,000\n",
    "\n",
    "3rd place - $2,000"
   ]
  },
  {
   "cell_type": "markdown",
   "metadata": {
    "id": "4IywSr2PLOes"
   },
   "source": [
    "## Citation\n",
    "\n",
    "MichalKecera. Rohlik Sales Forecasting Challenge. https://kaggle.com/competitions/rohlik-sales-forecasting-challenge-v2, 2024. Kaggle."
   ]
  },
  {
   "cell_type": "markdown",
   "metadata": {
    "id": "0opgBH9ILOes"
   },
   "source": [
    "## Data"
   ]
  },
  {
   "cell_type": "markdown",
   "metadata": {
    "id": "xeIeoID4LOes"
   },
   "source": [
    "## Dataset Description\n",
    "You are provided with historical sales data for selected Rohlik inventory and date. IDs, sales, total orders and price columns are altered to keep the real values confidential. Some features are not available in test as they are not known at the moment of making the prediction. The task is to forecast the sales column for a given id, constructed from unique_id and date (e. g. id 1226_2024-06-03 from unique_id 1226 and date 2024-06-03), for the test set.\n",
    "\n"
   ]
  },
  {
   "cell_type": "markdown",
   "metadata": {
    "id": "FtH0nBRILOes"
   },
   "source": [
    "## Files\n",
    "- **sales_train.csv** - training set containing the historical sales data for given date and inventory with selected features described below\n",
    "- **sales_test.csv** - full testing set\n",
    "- **inventory.csv** - additional information about inventory like its product (same products across all warehouses share same product unique id and name, but have different unique id)\n",
    "- **solution.csv** - full submission file in the correct format\n",
    "- **calendar.csv** - calendar containing data about holidays or warehouse specific events, some columns are already in the train data but there are additional rows in this file for dates where some warehouses could be closed due to public holiday or Sunday (and therefore they are not in the train set)\n",
    "\n"
   ]
  },
  {
   "cell_type": "markdown",
   "metadata": {
    "id": "W0zt0zXcLOet"
   },
   "source": [
    "## Columns\n",
    "**sales_train.csv** and **sales_test.csv**\n",
    "\n",
    "- `unique_id` - unique id for inventory\n",
    "- `date` - date\n",
    "- `warehouse` - warehouse name\n",
    "- `total_orders` - historical orders for selected Rohlik warehouse known also for test set as a part of this challenge\n",
    "- `sales` - Target value, sales volume (either in pcs or kg) adjusted by availability. The sales with lower availability than 1 are already adjusted to full potential sales by Rohlik internal logic. There might be missing dates both in train and test for a given inventory due to various reasons. This column is missing in test.csv as it is target variable.\n",
    "- `sell_price_main` - sell price\n",
    "- `availability` - proportion of the day that the inventory was available to customers. The inventory doesn't need to be available at all times. A value of 1 means it was available for the entire day. This column is missing in test.csv as it is not known at the moment of making the prediction.\n",
    "- `type_0_discount`, type_1_discount, … - Rohlik is running different types of promo sale actions, these show the percentage of the original price during promo ((original price - current_price) / original_price). Multiple discounts with different type can be run at the same time, but always the highest possible discount among these types is used for sales. Negative discount value should be interpreted as no discount.\n",
    "\n",
    "**inventory.csv**\n",
    "\n",
    "- `unique_id` - inventory id for a single keeping unit\n",
    "- `product_unique_id` - product id, inventory in each warehouse has the same product unique id (same products across all warehouses has the same product id, but different unique id)\n",
    "- `name` - inventory id for a single keeping unit\n",
    "L1_category_name, L2_category_name, … - name of the internal category, the higher the number, the more granular information is present\n",
    "- `warehouse` - warehouse name\n",
    "\n",
    "**calendar.csv**\n",
    "\n",
    "- `warehouse` - warehouse name\n",
    "- `date` - date\n",
    "- `holiday_name` - name of public holiday if any\n",
    "- `holiday` - 0/1 indicating the presence of holidays\n",
    "- `shops_closed` - public holiday with most of the shops or large part of shops closed\n",
    "- `winter_school_holidays` - winter school holidays\n",
    "- `school_holidays` - school holidays\n",
    "\n",
    "**test_weights.csv**\n",
    "\n",
    "- `unique_id` - inventory id for a single keeping unit\n",
    "- `weight` - weight used for final metric computation"
   ]
  },
  {
   "cell_type": "markdown",
   "metadata": {
    "id": "8jnvfrtdM2KY"
   },
   "source": [
    "# Import & Merging"
   ]
  },
  {
   "cell_type": "markdown",
   "metadata": {
    "id": "_z04z_S3M2KY"
   },
   "source": [
    "Mount Drive if in a Colab environment"
   ]
  },
  {
   "cell_type": "code",
   "execution_count": 1,
   "metadata": {
    "colab": {
     "base_uri": "https://localhost:8080/"
    },
    "executionInfo": {
     "elapsed": 17170,
     "status": "ok",
     "timestamp": 1738865522597,
     "user": {
      "displayName": "Kaike dos Santos Vieira",
      "userId": "04975263776408671912"
     },
     "user_tz": 300
    },
    "id": "TX_Qz0mGSGJv",
    "outputId": "29b41771-d634-4956-f619-b0ad6fab425b"
   },
   "outputs": [],
   "source": [
    "# from google.colab import drive\n",
    "# drive.mount('/content/drive')"
   ]
  },
  {
   "cell_type": "markdown",
   "metadata": {
    "id": "TT8--cgpM2KY"
   },
   "source": [
    "Import packages and tables"
   ]
  },
  {
   "cell_type": "code",
   "execution_count": 1,
   "metadata": {
    "executionInfo": {
     "elapsed": 5430,
     "status": "ok",
     "timestamp": 1738865577037,
     "user": {
      "displayName": "Kaike dos Santos Vieira",
      "userId": "04975263776408671912"
     },
     "user_tz": 300
    },
    "id": "pity28LRLOet"
   },
   "outputs": [],
   "source": [
    "# import\n",
    "import pandas as pd\n",
    "import numpy as np\n",
    "import matplotlib.pyplot as plt\n",
    "import warnings\n",
    "warnings.filterwarnings(\"ignore\")"
   ]
  },
  {
   "cell_type": "code",
   "execution_count": 2,
   "metadata": {
    "executionInfo": {
     "elapsed": 4076,
     "status": "ok",
     "timestamp": 1738865629906,
     "user": {
      "displayName": "Kaike dos Santos Vieira",
      "userId": "04975263776408671912"
     },
     "user_tz": 300
    },
    "id": "vPbL57k2LOeu"
   },
   "outputs": [],
   "source": [
    "path = r''\n",
    "\n",
    "sales_train = pd.read_csv(f'{path}sales_train.csv')\n",
    "sales_test = pd.read_csv(f'{path}sales_test.csv')\n",
    "weights = pd.read_csv(f'{path}test_weights.csv')\n",
    "# calendar = pd.read_csv(f'{path}calendar.csv')\n",
    "# inventory = pd.read_csv(f'{path}inventory.csv')\n",
    "# solution = pd.read_csv(f'{path}solution.csv')\n",
    "# prague_weather = pd.read_csv(f'{path}weather/prague_weather.csv', index_col=False)\n",
    "# brno_weather = pd.read_csv(f'{path}weather/brno_weather.csv', index_col=False)\n",
    "# frankfurt_weather = pd.read_csv(f'{path}weather/frankfurt_weather.csv', index_col=False)\n",
    "# munich_weather = pd.read_csv(f'{path}weather/munich_weather.csv', index_col=False)\n",
    "# budapest_weather = pd.read_csv(f'{path}weather/budapest_weather.csv', index_col=False)"
   ]
  },
  {
   "cell_type": "code",
   "execution_count": 3,
   "metadata": {
    "executionInfo": {
     "elapsed": 1039,
     "status": "ok",
     "timestamp": 1738865635631,
     "user": {
      "displayName": "Kaike dos Santos Vieira",
      "userId": "04975263776408671912"
     },
     "user_tz": 300
    },
    "id": "RjexVWK1dH5z"
   },
   "outputs": [],
   "source": [
    "# drop availability column\n",
    "sales_train.drop(columns=['availability'], axis=1, inplace=True)\n",
    "\n",
    "# drop 52 rows with NA values\n",
    "sales_train.dropna(inplace=True)\n",
    "\n",
    "# concat sales dataframes\n",
    "df = pd.concat([sales_train,\n",
    "                sales_test],\n",
    "                ignore_index=True)"
   ]
  },
  {
   "cell_type": "code",
   "execution_count": 4,
   "metadata": {
    "executionInfo": {
     "elapsed": 3913,
     "status": "ok",
     "timestamp": 1738865648106,
     "user": {
      "displayName": "Kaike dos Santos Vieira",
      "userId": "04975263776408671912"
     },
     "user_tz": 300
    },
    "id": "7Ym_fagWdH5z"
   },
   "outputs": [],
   "source": [
    "# convert to datetime\n",
    "df['date'] = pd.to_datetime(df['date'])"
   ]
  },
  {
   "cell_type": "markdown",
   "metadata": {},
   "source": [
    "Treating `discount` columns as instructed in Overview"
   ]
  },
  {
   "cell_type": "code",
   "execution_count": 5,
   "metadata": {
    "executionInfo": {
     "elapsed": 887,
     "status": "ok",
     "timestamp": 1738865651608,
     "user": {
      "displayName": "Kaike dos Santos Vieira",
      "userId": "04975263776408671912"
     },
     "user_tz": 300
    },
    "id": "9aY_N9Y0dH5z"
   },
   "outputs": [],
   "source": [
    "# Create discount column by selecting max discount value across discount columns\n",
    "discount_cols = [col for col in df.columns if col.startswith('type_') and col.endswith('_discount')]\n",
    "df['discount'] = df[discount_cols].max(axis=1)\n",
    "\n",
    "# drop discount columns\n",
    "df.drop(columns = ['type_0_discount', 'type_1_discount', 'type_2_discount',\n",
    "                            'type_3_discount', 'type_4_discount', 'type_5_discount',\n",
    "                            'type_6_discount'], inplace = True)\n"
   ]
  },
  {
   "cell_type": "markdown",
   "metadata": {},
   "source": [
    "## Rolling and Lag features"
   ]
  },
  {
   "cell_type": "code",
   "execution_count": 7,
   "metadata": {},
   "outputs": [],
   "source": [
    "# Sort by warehouse and date to maintain correct order\n",
    "df = df.sort_values(by=['warehouse', 'date']).reset_index(drop=True)\n",
    "\n",
    "# Correct column name (change if necessary)\n",
    "column_name = 'sell_price_main'  # Make sure this is the right column\n",
    "\n",
    "# Rolling window features - Efficient approach\n",
    "df['rolling_mean_7d'] = df.groupby('warehouse')[column_name]\\\n",
    "    .apply(lambda x: x.rolling(window=7, min_periods=1).mean()).reset_index(level=0, drop=True)\n",
    "\n",
    "df['rolling_mean_14d'] = df.groupby('warehouse')[column_name]\\\n",
    "    .apply(lambda x: x.rolling(window=14, min_periods=1).mean()).reset_index(level=0, drop=True)\n",
    "\n",
    "df['rolling_mean_30d'] = df.groupby('warehouse')[column_name]\\\n",
    "    .apply(lambda x: x.rolling(window=30, min_periods=1).mean()).reset_index(level=0, drop=True)\n",
    "\n",
    "df['rolling_sum_7d'] = df.groupby('warehouse')[column_name]\\\n",
    "    .apply(lambda x: x.rolling(window=7, min_periods=1).sum()).reset_index(level=0, drop=True)\n",
    "\n",
    "df['rolling_sum_14d'] = df.groupby('warehouse')[column_name]\\\n",
    "    .apply(lambda x: x.rolling(window=14, min_periods=1).sum()).reset_index(level=0, drop=True)\n",
    "\n",
    "df['rolling_sum_30d'] = df.groupby('warehouse')[column_name]\\\n",
    "    .apply(lambda x: x.rolling(window=30, min_periods=1).sum()).reset_index(level=0, drop=True)\n",
    "\n",
    "# Lag features - Shift values within each warehouse\n",
    "df['lag_1d'] = df.groupby('warehouse')[column_name].shift(1)\n",
    "df['lag_7d'] = df.groupby('warehouse')[column_name].shift(7)\n",
    "df['lag_14d'] = df.groupby('warehouse')[column_name].shift(14)\n",
    "\n",
    "# fill NaN with median\n",
    "df['lag_1d'].fillna(df['lag_1d'].median(), inplace=True)\n",
    "df['lag_7d'].fillna(df['lag_7d'].median(), inplace=True)\n",
    "df['lag_14d'].fillna(df['lag_14d'].median(), inplace=True)"
   ]
  },
  {
   "cell_type": "markdown",
   "metadata": {},
   "source": [
    "## Basic date features"
   ]
  },
  {
   "cell_type": "code",
   "execution_count": 6,
   "metadata": {},
   "outputs": [],
   "source": [
    "# Extract date features\n",
    "df['year'] = df['date'].dt.year\n",
    "df['month'] = df['date'].dt.month\n",
    "df['day'] = df['date'].dt.day\n",
    "df['weekday'] = df['date'].dt.day_of_week\n",
    "df['day_of_year'] = df['date'].dt.day_of_year"
   ]
  },
  {
   "cell_type": "markdown",
   "metadata": {},
   "source": [
    "## Inventory"
   ]
  },
  {
   "cell_type": "code",
   "execution_count": 9,
   "metadata": {},
   "outputs": [],
   "source": [
    "# merge inventory table\n",
    "df = df.merge(inventory, on=['unique_id', 'warehouse'], how='left')"
   ]
  },
  {
   "cell_type": "markdown",
   "metadata": {},
   "source": [
    "## Location"
   ]
  },
  {
   "cell_type": "markdown",
   "metadata": {},
   "source": [
    "Country"
   ]
  },
  {
   "cell_type": "code",
   "execution_count": 10,
   "metadata": {},
   "outputs": [],
   "source": [
    "# Dictionary to map warehouse to country\n",
    "warehouse_to_country = {\n",
    "    'Prague': 'Czech Republic',\n",
    "    'Brno': 'Czech Republic',\n",
    "    'Budapest': 'Hungary',\n",
    "    'Munich': 'Germany',\n",
    "    'Frankfurt': 'Germany'\n",
    "}\n",
    "\n",
    "# Create country column based on warehouse\n",
    "df['country'] = df['warehouse'].str.split('_').str[0].map(warehouse_to_country)"
   ]
  },
  {
   "cell_type": "markdown",
   "metadata": {},
   "source": [
    "City"
   ]
  },
  {
   "cell_type": "code",
   "execution_count": 11,
   "metadata": {},
   "outputs": [],
   "source": [
    "# Warehouse to City Mapping\n",
    "warehouse_city_map = {\n",
    "    'Budapest_1': 'Budapest',\n",
    "    'Prague_2': 'Prague',\n",
    "    'Brno_1': 'Brno',\n",
    "    'Prague_1': 'Prague',\n",
    "    'Prague_3': 'Prague',\n",
    "    'Munich_1': 'Munich',\n",
    "    'Frankfurt_1': 'Frankfurt'\n",
    "}\n",
    "\n",
    "# Map warehouse to city and drop rows with unknown warehouses\n",
    "df['city'] = df['warehouse'].map(warehouse_city_map)"
   ]
  },
  {
   "cell_type": "markdown",
   "metadata": {},
   "source": [
    "## Weather"
   ]
  },
  {
   "cell_type": "code",
   "execution_count": 12,
   "metadata": {},
   "outputs": [],
   "source": [
    "for i, j in enumerate([prague_weather,\n",
    "                        brno_weather,\n",
    "                        frankfurt_weather,\n",
    "                        munich_weather,\n",
    "                        budapest_weather]):\n",
    "    j = j.rename(columns={'datetime': 'date'})\n",
    "    j['date'] = pd.to_datetime(j['date'])\n",
    "\n",
    "    # Assign back to the corresponding variable\n",
    "    if i == 0:\n",
    "        prague_weather = j\n",
    "    elif i == 1:\n",
    "        brno_weather = j\n",
    "    elif i == 2:\n",
    "        frankfurt_weather = j\n",
    "    elif i == 3:\n",
    "        munich_weather = j\n",
    "    elif i == 4:\n",
    "        budapest_weather = j"
   ]
  },
  {
   "cell_type": "code",
   "execution_count": 13,
   "metadata": {},
   "outputs": [],
   "source": [
    "# Warehouse to City Mapping\n",
    "warehouse_city_map = {\n",
    "    'Budapest_1': 'Budapest',\n",
    "    'Prague_2': 'Prague',\n",
    "    'Brno_1': 'Brno',\n",
    "    'Prague_1': 'Prague',\n",
    "    'Prague_3': 'Prague',\n",
    "    'Munich_1': 'Munich',\n",
    "    'Frankfurt_1': 'Frankfurt'\n",
    "}\n",
    "\n",
    "# Weather DataFrames Dictionary (assuming all have the same structure)\n",
    "weather_dfs = {\n",
    "    'Prague': prague_weather,\n",
    "    'Brno': brno_weather,\n",
    "    'Frankfurt': frankfurt_weather,\n",
    "    'Munich': munich_weather,\n",
    "    'Budapest': budapest_weather\n",
    "    # Add other weather DataFrames as needed\n",
    "}\n",
    "\n",
    "# Specify the columns to keep from each weather DataFrame.\n",
    "# Make sure to include 'date' because it's needed for the merge.\n",
    "selected_cols = ['date', 'name', 'temp', 'feelslike', 'sunrise', 'sunset']\n",
    "\n",
    "# Merge all weather DataFrames into one, while adding a 'city' column.\n",
    "merged_weather = pd.concat([\n",
    "    weather_dfs[city][selected_cols].assign(city=city)\n",
    "    for city in weather_dfs\n",
    "], ignore_index=True)\n",
    "\n",
    "# Now merge the sales data with the merged weather data on both 'date' and 'city'.\n",
    "df = df.merge(merged_weather, on=['date', 'city'], how='left')"
   ]
  },
  {
   "cell_type": "markdown",
   "metadata": {},
   "source": [
    "## [Target encoding categorical variables](https://mlbook.explained.ai/catvars.html#target-encoding)"
   ]
  },
  {
   "cell_type": "code",
   "execution_count": 7,
   "metadata": {},
   "outputs": [],
   "source": [
    "# Filter data before the given date\n",
    "filtered_df = df[df['date'] < sales_train['date'].max()]\n",
    "\n",
    "# Group by 'unique_id' and calculate the mean sales\n",
    "mean_sales= filtered_df.groupby('unique_id')['sales'].mean().reset_index()\n",
    "\n",
    "# Rename the resulting column\n",
    "mean_sales.rename(columns={'sales': 'mean_sales'}, inplace=True)\n",
    "\n",
    "# merging\n",
    "df = df.merge(mean_sales, on='unique_id', how='left')"
   ]
  },
  {
   "cell_type": "markdown",
   "metadata": {},
   "source": [
    "Mean Sales Per Year by Unique_id"
   ]
  },
  {
   "cell_type": "code",
   "execution_count": 8,
   "metadata": {},
   "outputs": [],
   "source": [
    "# Filter data before the given date\n",
    "filtered_df = df[df['date'] < sales_train['date'].max()]\n",
    "\n",
    "# Group by 'unique_id' and calculate the mean sales\n",
    "mean_sales_year= filtered_df.groupby(['unique_id', 'year'])['sales'].mean().reset_index()\n",
    "\n",
    "# Rename the resulting column\n",
    "mean_sales_year.rename(columns={'sales': 'mean_sales_year'}, inplace=True)\n",
    "\n",
    "# merging\n",
    "df = df.merge(mean_sales_year, on='unique_id', how='left')"
   ]
  },
  {
   "cell_type": "code",
   "execution_count": null,
   "metadata": {},
   "outputs": [
    {
     "data": {
      "text/html": [
       "<div>\n",
       "<style scoped>\n",
       "    .dataframe tbody tr th:only-of-type {\n",
       "        vertical-align: middle;\n",
       "    }\n",
       "\n",
       "    .dataframe tbody tr th {\n",
       "        vertical-align: top;\n",
       "    }\n",
       "\n",
       "    .dataframe thead th {\n",
       "        text-align: right;\n",
       "    }\n",
       "</style>\n",
       "<table border=\"1\" class=\"dataframe\">\n",
       "  <thead>\n",
       "    <tr style=\"text-align: right;\">\n",
       "      <th></th>\n",
       "      <th>unique_id</th>\n",
       "      <th>date</th>\n",
       "      <th>warehouse</th>\n",
       "      <th>total_orders</th>\n",
       "      <th>sales</th>\n",
       "      <th>sell_price_main</th>\n",
       "      <th>discount</th>\n",
       "      <th>mean_sales_x</th>\n",
       "      <th>sales_bins</th>\n",
       "      <th>year_x</th>\n",
       "      <th>month</th>\n",
       "      <th>day</th>\n",
       "      <th>weekday</th>\n",
       "      <th>day_of_year</th>\n",
       "      <th>year_y</th>\n",
       "      <th>mean_sales_y</th>\n",
       "    </tr>\n",
       "  </thead>\n",
       "  <tbody>\n",
       "    <tr>\n",
       "      <th>0</th>\n",
       "      <td>4845</td>\n",
       "      <td>2024-03-10</td>\n",
       "      <td>Budapest_1</td>\n",
       "      <td>6436.0</td>\n",
       "      <td>16.34</td>\n",
       "      <td>646.26</td>\n",
       "      <td>0.15312</td>\n",
       "      <td>21.753918</td>\n",
       "      <td>1</td>\n",
       "      <td>2024</td>\n",
       "      <td>3</td>\n",
       "      <td>10</td>\n",
       "      <td>6</td>\n",
       "      <td>70</td>\n",
       "      <td>2020</td>\n",
       "      <td>15.482086</td>\n",
       "    </tr>\n",
       "    <tr>\n",
       "      <th>1</th>\n",
       "      <td>4845</td>\n",
       "      <td>2024-03-10</td>\n",
       "      <td>Budapest_1</td>\n",
       "      <td>6436.0</td>\n",
       "      <td>16.34</td>\n",
       "      <td>646.26</td>\n",
       "      <td>0.15312</td>\n",
       "      <td>21.753918</td>\n",
       "      <td>1</td>\n",
       "      <td>2024</td>\n",
       "      <td>3</td>\n",
       "      <td>10</td>\n",
       "      <td>6</td>\n",
       "      <td>70</td>\n",
       "      <td>2021</td>\n",
       "      <td>16.898806</td>\n",
       "    </tr>\n",
       "    <tr>\n",
       "      <th>2</th>\n",
       "      <td>4845</td>\n",
       "      <td>2024-03-10</td>\n",
       "      <td>Budapest_1</td>\n",
       "      <td>6436.0</td>\n",
       "      <td>16.34</td>\n",
       "      <td>646.26</td>\n",
       "      <td>0.15312</td>\n",
       "      <td>21.753918</td>\n",
       "      <td>1</td>\n",
       "      <td>2024</td>\n",
       "      <td>3</td>\n",
       "      <td>10</td>\n",
       "      <td>6</td>\n",
       "      <td>70</td>\n",
       "      <td>2022</td>\n",
       "      <td>24.307096</td>\n",
       "    </tr>\n",
       "    <tr>\n",
       "      <th>3</th>\n",
       "      <td>4845</td>\n",
       "      <td>2024-03-10</td>\n",
       "      <td>Budapest_1</td>\n",
       "      <td>6436.0</td>\n",
       "      <td>16.34</td>\n",
       "      <td>646.26</td>\n",
       "      <td>0.15312</td>\n",
       "      <td>21.753918</td>\n",
       "      <td>1</td>\n",
       "      <td>2024</td>\n",
       "      <td>3</td>\n",
       "      <td>10</td>\n",
       "      <td>6</td>\n",
       "      <td>70</td>\n",
       "      <td>2023</td>\n",
       "      <td>23.170112</td>\n",
       "    </tr>\n",
       "    <tr>\n",
       "      <th>4</th>\n",
       "      <td>4845</td>\n",
       "      <td>2024-03-10</td>\n",
       "      <td>Budapest_1</td>\n",
       "      <td>6436.0</td>\n",
       "      <td>16.34</td>\n",
       "      <td>646.26</td>\n",
       "      <td>0.15312</td>\n",
       "      <td>21.753918</td>\n",
       "      <td>1</td>\n",
       "      <td>2024</td>\n",
       "      <td>3</td>\n",
       "      <td>10</td>\n",
       "      <td>6</td>\n",
       "      <td>70</td>\n",
       "      <td>2024</td>\n",
       "      <td>29.531118</td>\n",
       "    </tr>\n",
       "  </tbody>\n",
       "</table>\n",
       "</div>"
      ],
      "text/plain": [
       "   unique_id       date   warehouse  total_orders  sales  sell_price_main  \\\n",
       "0       4845 2024-03-10  Budapest_1        6436.0  16.34           646.26   \n",
       "1       4845 2024-03-10  Budapest_1        6436.0  16.34           646.26   \n",
       "2       4845 2024-03-10  Budapest_1        6436.0  16.34           646.26   \n",
       "3       4845 2024-03-10  Budapest_1        6436.0  16.34           646.26   \n",
       "4       4845 2024-03-10  Budapest_1        6436.0  16.34           646.26   \n",
       "\n",
       "   discount  mean_sales_x sales_bins  year_x  month  day  weekday  \\\n",
       "0   0.15312     21.753918          1    2024      3   10        6   \n",
       "1   0.15312     21.753918          1    2024      3   10        6   \n",
       "2   0.15312     21.753918          1    2024      3   10        6   \n",
       "3   0.15312     21.753918          1    2024      3   10        6   \n",
       "4   0.15312     21.753918          1    2024      3   10        6   \n",
       "\n",
       "   day_of_year  year_y  mean_sales_y  \n",
       "0           70    2020     15.482086  \n",
       "1           70    2021     16.898806  \n",
       "2           70    2022     24.307096  \n",
       "3           70    2023     23.170112  \n",
       "4           70    2024     29.531118  "
      ]
     },
     "execution_count": 65,
     "metadata": {},
     "output_type": "execute_result"
    }
   ],
   "source": [
    "df.head()"
   ]
  },
  {
   "cell_type": "markdown",
   "metadata": {},
   "source": [
    "# Preprocessing"
   ]
  },
  {
   "cell_type": "code",
   "execution_count": null,
   "metadata": {
    "executionInfo": {
     "elapsed": 1048,
     "status": "ok",
     "timestamp": 1738866142055,
     "user": {
      "displayName": "Kaike dos Santos Vieira",
      "userId": "04975263776408671912"
     },
     "user_tz": 300
    },
    "id": "Jw3HW4aZdH50"
   },
   "outputs": [],
   "source": [
    "# splitting sales_df\n",
    "train = df[df['date'] < sales_test['date'].min()]\n",
    "test = df[df['date'] >= sales_test['date'].min()]"
   ]
  },
  {
   "cell_type": "code",
   "execution_count": null,
   "metadata": {},
   "outputs": [],
   "source": [
    "#used to stratify the dataset \n",
    "train['sales_bins'] = pd.qcut(train['sales'], q=4, labels=[1, 2, 3, 4])"
   ]
  },
  {
   "cell_type": "code",
   "execution_count": null,
   "metadata": {
    "executionInfo": {
     "elapsed": 46,
     "status": "ok",
     "timestamp": 1738866138998,
     "user": {
      "displayName": "Kaike dos Santos Vieira",
      "userId": "04975263776408671912"
     },
     "user_tz": 300
    },
    "id": "K5Jk21hVdH50"
   },
   "outputs": [],
   "source": [
    "from sklearn.model_selection import train_test_split\n",
    "from sklearn.preprocessing import LabelEncoder\n",
    "\n",
    "random_state = 1910\n",
    "\n",
    "# Initialize the LabelEncoder\n",
    "le = LabelEncoder()\n",
    "\n",
    "#tranform categorical variables in both df\n",
    "for i in train.select_dtypes('object').columns:\n",
    "        train[i] = le.fit_transform(train[i])\n",
    "        \n",
    "#tranform categorical variables in both df\n",
    "for i in test.select_dtypes('object').columns:\n",
    "        test[i] = le.fit_transform(test[i])\n",
    "        \n",
    "X = train.drop(columns=['date', 'sales', 'sales_bins'], axis=1)\n",
    "y = train['sales']\n",
    "\n",
    "test = test[X.columns]\n",
    "\n",
    "X_train, X_val, y_train, y_val = train_test_split(X, y, \n",
    "                                                  test_size=0.20, \n",
    "                                                #   stratify=train['sales_bins'],\n",
    "                                                  random_state=random_state)"
   ]
  },
  {
   "cell_type": "markdown",
   "metadata": {},
   "source": [
    "# Light GB"
   ]
  },
  {
   "cell_type": "code",
   "execution_count": 18,
   "metadata": {
    "id": "_rVazduedH50"
   },
   "outputs": [],
   "source": [
    "import lightgbm as lgb\n",
    "\n",
    "# LightGBM parameters\n",
    "lgb_params = {\n",
    "    \"objective\": \"regression\",  # Predicting sales (continuous target)\n",
    "    \"metric\": \"rmse\",  # Root Mean Squared Error (good for scale-dependent forecasting)\n",
    "    \"boosting_type\": \"gbdt\",  # Gradient Boosting Decision Trees\n",
    "    \"learning_rate\": 0.1420398253339109,  # Controls step size (0.05 is a good starting point)\n",
    "    \"num_leaves\": 143,  # Controls tree complexity (higher = risk of overfitting)\n",
    "    \"max_depth\": 14,  # No depth limit\n",
    "    \"subsample\": 0.5809918835810081,  # Use 80% of data per tree (reduces overfitting)\n",
    "    \"colsample_bytree\": 0.768425331779863,  # Use 80% of features per tree\n",
    "    \"n_estimators\": 1000,  # Number of boosting rounds\n",
    "    \"early_stopping_rounds\": 50,  # Stops training if validation score doesn't improve\n",
    "    \"verbose\": -1,  # Suppress warnings\n",
    "}\n",
    "\n",
    "# Train the model\n",
    "lgb_train = lgb.Dataset(X_train, label=y_train)\n",
    "lgb_val = lgb.Dataset(X_val, label=y_val, reference=lgb_train)\n",
    "\n",
    "model = lgb.train(\n",
    "    lgb_params,\n",
    "    lgb_train,\n",
    "    valid_sets=[lgb_train, lgb_val],\n",
    ")"
   ]
  },
  {
   "cell_type": "code",
   "execution_count": 19,
   "metadata": {
    "id": "wY-pPqdJdH50"
   },
   "outputs": [
    {
     "name": "stdout",
     "output_type": "stream",
     "text": [
      "Validation MAE: 20.25\n"
     ]
    }
   ],
   "source": [
    "from sklearn.metrics import mean_absolute_error\n",
    "\n",
    "# Predict on validation set\n",
    "y_pred = model.predict(X_val)\n",
    "\n",
    "# Evaluate performance\n",
    "mae = mean_absolute_error(y_val, y_pred)\n",
    "print(f\"Validation MAE: {mae:.2f}\")"
   ]
  },
  {
   "cell_type": "code",
   "execution_count": 20,
   "metadata": {
    "id": "Bhr2M2kudH50",
    "outputId": "51f9d7f7-1162-4bf3-c820-8f506b18ee5f"
   },
   "outputs": [
    {
     "name": "stdout",
     "output_type": "stream",
     "text": [
      "The Weighted Mean Absolute Error is:  5.585023234366209\n"
     ]
    }
   ],
   "source": [
    "# weights\n",
    "X_val_weighted = X_val.merge(weights, on=['unique_id'], how='left')\n",
    "\n",
    "# Compute WMAE\n",
    "X_val_weighted['abs_error'] = np.abs(y_val-y_pred)\n",
    "\n",
    "wmae = (np.sum(X_val_weighted['abs_error'] * X_val_weighted['weight']) / X_val_weighted['weight'].sum())\n",
    "\n",
    "print(\"The Weighted Mean Absolute Error is: \", wmae)"
   ]
  },
  {
   "cell_type": "code",
   "execution_count": 21,
   "metadata": {
    "id": "UVrs9g1zdH50",
    "outputId": "614896cb-df4b-4069-cc9b-157af36a115f"
   },
   "outputs": [
    {
     "data": {
      "image/png": "[encoded data removed]",
      "text/plain": [
       "<Figure size 1500x1500 with 1 Axes>"
      ]
     },
     "metadata": {},
     "output_type": "display_data"
    }
   ],
   "source": [
    "# Get feature importance values\n",
    "importance = model.feature_importance(importance_type=\"gain\")  # 'gain' shows impact per split\n",
    "feature_names = X_train.columns\n",
    "\n",
    "# Sort features by importance\n",
    "sorted_idx = np.argsort(importance)[::-1]\n",
    "\n",
    "# Plot\n",
    "plt.figure(figsize=(15, 15))\n",
    "plt.barh(range(len(sorted_idx)), importance[sorted_idx], align=\"center\")\n",
    "plt.yticks(range(len(sorted_idx)), [feature_names[i] for i in sorted_idx])\n",
    "plt.xlabel(\"Feature Importance (Gain)\")\n",
    "plt.ylabel(\"Feature\")\n",
    "plt.title(\"LightGBM Feature Importance\")\n",
    "plt.gca().invert_yaxis()  # Highest importance at top\n",
    "plt.show()"
   ]
  },
  {
   "cell_type": "code",
   "execution_count": 22,
   "metadata": {
    "id": "wSV_KkfFdH50",
    "outputId": "a1b41879-68d2-4532-e377-3054267b580a"
   },
   "outputs": [],
   "source": [
    "# checking individual importances\n",
    "importances = pd.DataFrame(model.feature_importance(importance_type='gain'), X.columns)\n",
    "importances.sort_values(by=0, ascending=False, inplace=True)"
   ]
  },
  {
   "cell_type": "code",
   "execution_count": 25,
   "metadata": {
    "id": "rs204YmZdH58",
    "outputId": "1bac42a8-36fb-4722-f7dd-ea84604c7ef2"
   },
   "outputs": [
    {
     "data": {
      "text/html": [
       "<div>\n",
       "<style scoped>\n",
       "    .dataframe tbody tr th:only-of-type {\n",
       "        vertical-align: middle;\n",
       "    }\n",
       "\n",
       "    .dataframe tbody tr th {\n",
       "        vertical-align: top;\n",
       "    }\n",
       "\n",
       "    .dataframe thead th {\n",
       "        text-align: right;\n",
       "    }\n",
       "</style>\n",
       "<table border=\"1\" class=\"dataframe\">\n",
       "  <thead>\n",
       "    <tr style=\"text-align: right;\">\n",
       "      <th></th>\n",
       "      <th>id</th>\n",
       "      <th>sales_hat</th>\n",
       "    </tr>\n",
       "  </thead>\n",
       "  <tbody>\n",
       "    <tr>\n",
       "      <th>0</th>\n",
       "      <td>1226_2024-06-03</td>\n",
       "      <td>31.636290</td>\n",
       "    </tr>\n",
       "    <tr>\n",
       "      <th>1</th>\n",
       "      <td>1226_2024-06-11</td>\n",
       "      <td>45.120701</td>\n",
       "    </tr>\n",
       "    <tr>\n",
       "      <th>2</th>\n",
       "      <td>1226_2024-06-13</td>\n",
       "      <td>51.413200</td>\n",
       "    </tr>\n",
       "    <tr>\n",
       "      <th>3</th>\n",
       "      <td>1226_2024-06-15</td>\n",
       "      <td>108.841122</td>\n",
       "    </tr>\n",
       "    <tr>\n",
       "      <th>4</th>\n",
       "      <td>1226_2024-06-09</td>\n",
       "      <td>87.694011</td>\n",
       "    </tr>\n",
       "  </tbody>\n",
       "</table>\n",
       "</div>"
      ],
      "text/plain": [
       "                id   sales_hat\n",
       "0  1226_2024-06-03   31.636290\n",
       "1  1226_2024-06-11   45.120701\n",
       "2  1226_2024-06-13   51.413200\n",
       "3  1226_2024-06-15  108.841122\n",
       "4  1226_2024-06-09   87.694011"
      ]
     },
     "execution_count": 25,
     "metadata": {},
     "output_type": "execute_result"
    }
   ],
   "source": [
    "predictions = model.predict(test)\n",
    "\n",
    "solution['sales_hat'] = predictions\n",
    "\n",
    "solution.head()"
   ]
  },
  {
   "cell_type": "code",
   "execution_count": 27,
   "metadata": {},
   "outputs": [],
   "source": [
    "solution.to_csv(f'solution_wmae_{wmae:.2f}.csv', index=False)"
   ]
  },
  {
   "cell_type": "markdown",
   "metadata": {},
   "source": [
    "# Randon Forest Regressor"
   ]
  },
  {
   "cell_type": "code",
   "execution_count": 57,
   "metadata": {},
   "outputs": [
    {
     "data": {
      "text/html": [
       "<style>#sk-container-id-1 {\n",
       "  /* Definition of color scheme common for light and dark mode */\n",
       "  --sklearn-color-text: #000;\n",
       "  --sklearn-color-text-muted: #666;\n",
       "  --sklearn-color-line: gray;\n",
       "  /* Definition of color scheme for unfitted estimators */\n",
       "  --sklearn-color-unfitted-level-0: #fff5e6;\n",
       "  --sklearn-color-unfitted-level-1: #f6e4d2;\n",
       "  --sklearn-color-unfitted-level-2: #ffe0b3;\n",
       "  --sklearn-color-unfitted-level-3: chocolate;\n",
       "  /* Definition of color scheme for fitted estimators */\n",
       "  --sklearn-color-fitted-level-0: #f0f8ff;\n",
       "  --sklearn-color-fitted-level-1: #d4ebff;\n",
       "  --sklearn-color-fitted-level-2: #b3dbfd;\n",
       "  --sklearn-color-fitted-level-3: cornflowerblue;\n",
       "\n",
       "  /* Specific color for light theme */\n",
       "  --sklearn-color-text-on-default-background: var(--sg-text-color, var(--theme-code-foreground, var(--jp-content-font-color1, black)));\n",
       "  --sklearn-color-background: var(--sg-background-color, var(--theme-background, var(--jp-layout-color0, white)));\n",
       "  --sklearn-color-border-box: var(--sg-text-color, var(--theme-code-foreground, var(--jp-content-font-color1, black)));\n",
       "  --sklearn-color-icon: #696969;\n",
       "\n",
       "  @media (prefers-color-scheme: dark) {\n",
       "    /* Redefinition of color scheme for dark theme */\n",
       "    --sklearn-color-text-on-default-background: var(--sg-text-color, var(--theme-code-foreground, var(--jp-content-font-color1, white)));\n",
       "    --sklearn-color-background: var(--sg-background-color, var(--theme-background, var(--jp-layout-color0, #111)));\n",
       "    --sklearn-color-border-box: var(--sg-text-color, var(--theme-code-foreground, var(--jp-content-font-color1, white)));\n",
       "    --sklearn-color-icon: #878787;\n",
       "  }\n",
       "}\n",
       "\n",
       "#sk-container-id-1 {\n",
       "  color: var(--sklearn-color-text);\n",
       "}\n",
       "\n",
       "#sk-container-id-1 pre {\n",
       "  padding: 0;\n",
       "}\n",
       "\n",
       "#sk-container-id-1 input.sk-hidden--visually {\n",
       "  border: 0;\n",
       "  clip: rect(1px 1px 1px 1px);\n",
       "  clip: rect(1px, 1px, 1px, 1px);\n",
       "  height: 1px;\n",
       "  margin: -1px;\n",
       "  overflow: hidden;\n",
       "  padding: 0;\n",
       "  position: absolute;\n",
       "  width: 1px;\n",
       "}\n",
       "\n",
       "#sk-container-id-1 div.sk-dashed-wrapped {\n",
       "  border: 1px dashed var(--sklearn-color-line);\n",
       "  margin: 0 0.4em 0.5em 0.4em;\n",
       "  box-sizing: border-box;\n",
       "  padding-bottom: 0.4em;\n",
       "  background-color: var(--sklearn-color-background);\n",
       "}\n",
       "\n",
       "#sk-container-id-1 div.sk-container {\n",
       "  /* jupyter's `normalize.less` sets `[hidden] { display: none; }`\n",
       "     but bootstrap.min.css set `[hidden] { display: none !important; }`\n",
       "     so we also need the `!important` here to be able to override the\n",
       "     default hidden behavior on the sphinx rendered scikit-learn.org.\n",
       "     See: https://github.com/scikit-learn/scikit-learn/issues/21755 */\n",
       "  display: inline-block !important;\n",
       "  position: relative;\n",
       "}\n",
       "\n",
       "#sk-container-id-1 div.sk-text-repr-fallback {\n",
       "  display: none;\n",
       "}\n",
       "\n",
       "div.sk-parallel-item,\n",
       "div.sk-serial,\n",
       "div.sk-item {\n",
       "  /* draw centered vertical line to link estimators */\n",
       "  background-image: linear-gradient(var(--sklearn-color-text-on-default-background), var(--sklearn-color-text-on-default-background));\n",
       "  background-size: 2px 100%;\n",
       "  background-repeat: no-repeat;\n",
       "  background-position: center center;\n",
       "}\n",
       "\n",
       "/* Parallel-specific style estimator block */\n",
       "\n",
       "#sk-container-id-1 div.sk-parallel-item::after {\n",
       "  content: \"\";\n",
       "  width: 100%;\n",
       "  border-bottom: 2px solid var(--sklearn-color-text-on-default-background);\n",
       "  flex-grow: 1;\n",
       "}\n",
       "\n",
       "#sk-container-id-1 div.sk-parallel {\n",
       "  display: flex;\n",
       "  align-items: stretch;\n",
       "  justify-content: center;\n",
       "  background-color: var(--sklearn-color-background);\n",
       "  position: relative;\n",
       "}\n",
       "\n",
       "#sk-container-id-1 div.sk-parallel-item {\n",
       "  display: flex;\n",
       "  flex-direction: column;\n",
       "}\n",
       "\n",
       "#sk-container-id-1 div.sk-parallel-item:first-child::after {\n",
       "  align-self: flex-end;\n",
       "  width: 50%;\n",
       "}\n",
       "\n",
       "#sk-container-id-1 div.sk-parallel-item:last-child::after {\n",
       "  align-self: flex-start;\n",
       "  width: 50%;\n",
       "}\n",
       "\n",
       "#sk-container-id-1 div.sk-parallel-item:only-child::after {\n",
       "  width: 0;\n",
       "}\n",
       "\n",
       "/* Serial-specific style estimator block */\n",
       "\n",
       "#sk-container-id-1 div.sk-serial {\n",
       "  display: flex;\n",
       "  flex-direction: column;\n",
       "  align-items: center;\n",
       "  background-color: var(--sklearn-color-background);\n",
       "  padding-right: 1em;\n",
       "  padding-left: 1em;\n",
       "}\n",
       "\n",
       "\n",
       "/* Toggleable style: style used for estimator/Pipeline/ColumnTransformer box that is\n",
       "clickable and can be expanded/collapsed.\n",
       "- Pipeline and ColumnTransformer use this feature and define the default style\n",
       "- Estimators will overwrite some part of the style using the `sk-estimator` class\n",
       "*/\n",
       "\n",
       "/* Pipeline and ColumnTransformer style (default) */\n",
       "\n",
       "#sk-container-id-1 div.sk-toggleable {\n",
       "  /* Default theme specific background. It is overwritten whether we have a\n",
       "  specific estimator or a Pipeline/ColumnTransformer */\n",
       "  background-color: var(--sklearn-color-background);\n",
       "}\n",
       "\n",
       "/* Toggleable label */\n",
       "#sk-container-id-1 label.sk-toggleable__label {\n",
       "  cursor: pointer;\n",
       "  display: flex;\n",
       "  width: 100%;\n",
       "  margin-bottom: 0;\n",
       "  padding: 0.5em;\n",
       "  box-sizing: border-box;\n",
       "  text-align: center;\n",
       "  align-items: start;\n",
       "  justify-content: space-between;\n",
       "  gap: 0.5em;\n",
       "}\n",
       "\n",
       "#sk-container-id-1 label.sk-toggleable__label .caption {\n",
       "  font-size: 0.6rem;\n",
       "  font-weight: lighter;\n",
       "  color: var(--sklearn-color-text-muted);\n",
       "}\n",
       "\n",
       "#sk-container-id-1 label.sk-toggleable__label-arrow:before {\n",
       "  /* Arrow on the left of the label */\n",
       "  content: \"▸\";\n",
       "  float: left;\n",
       "  margin-right: 0.25em;\n",
       "  color: var(--sklearn-color-icon);\n",
       "}\n",
       "\n",
       "#sk-container-id-1 label.sk-toggleable__label-arrow:hover:before {\n",
       "  color: var(--sklearn-color-text);\n",
       "}\n",
       "\n",
       "/* Toggleable content - dropdown */\n",
       "\n",
       "#sk-container-id-1 div.sk-toggleable__content {\n",
       "  max-height: 0;\n",
       "  max-width: 0;\n",
       "  overflow: hidden;\n",
       "  text-align: left;\n",
       "  /* unfitted */\n",
       "  background-color: var(--sklearn-color-unfitted-level-0);\n",
       "}\n",
       "\n",
       "#sk-container-id-1 div.sk-toggleable__content.fitted {\n",
       "  /* fitted */\n",
       "  background-color: var(--sklearn-color-fitted-level-0);\n",
       "}\n",
       "\n",
       "#sk-container-id-1 div.sk-toggleable__content pre {\n",
       "  margin: 0.2em;\n",
       "  border-radius: 0.25em;\n",
       "  color: var(--sklearn-color-text);\n",
       "  /* unfitted */\n",
       "  background-color: var(--sklearn-color-unfitted-level-0);\n",
       "}\n",
       "\n",
       "#sk-container-id-1 div.sk-toggleable__content.fitted pre {\n",
       "  /* unfitted */\n",
       "  background-color: var(--sklearn-color-fitted-level-0);\n",
       "}\n",
       "\n",
       "#sk-container-id-1 input.sk-toggleable__control:checked~div.sk-toggleable__content {\n",
       "  /* Expand drop-down */\n",
       "  max-height: 200px;\n",
       "  max-width: 100%;\n",
       "  overflow: auto;\n",
       "}\n",
       "\n",
       "#sk-container-id-1 input.sk-toggleable__control:checked~label.sk-toggleable__label-arrow:before {\n",
       "  content: \"▾\";\n",
       "}\n",
       "\n",
       "/* Pipeline/ColumnTransformer-specific style */\n",
       "\n",
       "#sk-container-id-1 div.sk-label input.sk-toggleable__control:checked~label.sk-toggleable__label {\n",
       "  color: var(--sklearn-color-text);\n",
       "  background-color: var(--sklearn-color-unfitted-level-2);\n",
       "}\n",
       "\n",
       "#sk-container-id-1 div.sk-label.fitted input.sk-toggleable__control:checked~label.sk-toggleable__label {\n",
       "  background-color: var(--sklearn-color-fitted-level-2);\n",
       "}\n",
       "\n",
       "/* Estimator-specific style */\n",
       "\n",
       "/* Colorize estimator box */\n",
       "#sk-container-id-1 div.sk-estimator input.sk-toggleable__control:checked~label.sk-toggleable__label {\n",
       "  /* unfitted */\n",
       "  background-color: var(--sklearn-color-unfitted-level-2);\n",
       "}\n",
       "\n",
       "#sk-container-id-1 div.sk-estimator.fitted input.sk-toggleable__control:checked~label.sk-toggleable__label {\n",
       "  /* fitted */\n",
       "  background-color: var(--sklearn-color-fitted-level-2);\n",
       "}\n",
       "\n",
       "#sk-container-id-1 div.sk-label label.sk-toggleable__label,\n",
       "#sk-container-id-1 div.sk-label label {\n",
       "  /* The background is the default theme color */\n",
       "  color: var(--sklearn-color-text-on-default-background);\n",
       "}\n",
       "\n",
       "/* On hover, darken the color of the background */\n",
       "#sk-container-id-1 div.sk-label:hover label.sk-toggleable__label {\n",
       "  color: var(--sklearn-color-text);\n",
       "  background-color: var(--sklearn-color-unfitted-level-2);\n",
       "}\n",
       "\n",
       "/* Label box, darken color on hover, fitted */\n",
       "#sk-container-id-1 div.sk-label.fitted:hover label.sk-toggleable__label.fitted {\n",
       "  color: var(--sklearn-color-text);\n",
       "  background-color: var(--sklearn-color-fitted-level-2);\n",
       "}\n",
       "\n",
       "/* Estimator label */\n",
       "\n",
       "#sk-container-id-1 div.sk-label label {\n",
       "  font-family: monospace;\n",
       "  font-weight: bold;\n",
       "  display: inline-block;\n",
       "  line-height: 1.2em;\n",
       "}\n",
       "\n",
       "#sk-container-id-1 div.sk-label-container {\n",
       "  text-align: center;\n",
       "}\n",
       "\n",
       "/* Estimator-specific */\n",
       "#sk-container-id-1 div.sk-estimator {\n",
       "  font-family: monospace;\n",
       "  border: 1px dotted var(--sklearn-color-border-box);\n",
       "  border-radius: 0.25em;\n",
       "  box-sizing: border-box;\n",
       "  margin-bottom: 0.5em;\n",
       "  /* unfitted */\n",
       "  background-color: var(--sklearn-color-unfitted-level-0);\n",
       "}\n",
       "\n",
       "#sk-container-id-1 div.sk-estimator.fitted {\n",
       "  /* fitted */\n",
       "  background-color: var(--sklearn-color-fitted-level-0);\n",
       "}\n",
       "\n",
       "/* on hover */\n",
       "#sk-container-id-1 div.sk-estimator:hover {\n",
       "  /* unfitted */\n",
       "  background-color: var(--sklearn-color-unfitted-level-2);\n",
       "}\n",
       "\n",
       "#sk-container-id-1 div.sk-estimator.fitted:hover {\n",
       "  /* fitted */\n",
       "  background-color: var(--sklearn-color-fitted-level-2);\n",
       "}\n",
       "\n",
       "/* Specification for estimator info (e.g. \"i\" and \"?\") */\n",
       "\n",
       "/* Common style for \"i\" and \"?\" */\n",
       "\n",
       ".sk-estimator-doc-link,\n",
       "a:link.sk-estimator-doc-link,\n",
       "a:visited.sk-estimator-doc-link {\n",
       "  float: right;\n",
       "  font-size: smaller;\n",
       "  line-height: 1em;\n",
       "  font-family: monospace;\n",
       "  background-color: var(--sklearn-color-background);\n",
       "  border-radius: 1em;\n",
       "  height: 1em;\n",
       "  width: 1em;\n",
       "  text-decoration: none !important;\n",
       "  margin-left: 0.5em;\n",
       "  text-align: center;\n",
       "  /* unfitted */\n",
       "  border: var(--sklearn-color-unfitted-level-1) 1pt solid;\n",
       "  color: var(--sklearn-color-unfitted-level-1);\n",
       "}\n",
       "\n",
       ".sk-estimator-doc-link.fitted,\n",
       "a:link.sk-estimator-doc-link.fitted,\n",
       "a:visited.sk-estimator-doc-link.fitted {\n",
       "  /* fitted */\n",
       "  border: var(--sklearn-color-fitted-level-1) 1pt solid;\n",
       "  color: var(--sklearn-color-fitted-level-1);\n",
       "}\n",
       "\n",
       "/* On hover */\n",
       "div.sk-estimator:hover .sk-estimator-doc-link:hover,\n",
       ".sk-estimator-doc-link:hover,\n",
       "div.sk-label-container:hover .sk-estimator-doc-link:hover,\n",
       ".sk-estimator-doc-link:hover {\n",
       "  /* unfitted */\n",
       "  background-color: var(--sklearn-color-unfitted-level-3);\n",
       "  color: var(--sklearn-color-background);\n",
       "  text-decoration: none;\n",
       "}\n",
       "\n",
       "div.sk-estimator.fitted:hover .sk-estimator-doc-link.fitted:hover,\n",
       ".sk-estimator-doc-link.fitted:hover,\n",
       "div.sk-label-container:hover .sk-estimator-doc-link.fitted:hover,\n",
       ".sk-estimator-doc-link.fitted:hover {\n",
       "  /* fitted */\n",
       "  background-color: var(--sklearn-color-fitted-level-3);\n",
       "  color: var(--sklearn-color-background);\n",
       "  text-decoration: none;\n",
       "}\n",
       "\n",
       "/* Span, style for the box shown on hovering the info icon */\n",
       ".sk-estimator-doc-link span {\n",
       "  display: none;\n",
       "  z-index: 9999;\n",
       "  position: relative;\n",
       "  font-weight: normal;\n",
       "  right: .2ex;\n",
       "  padding: .5ex;\n",
       "  margin: .5ex;\n",
       "  width: min-content;\n",
       "  min-width: 20ex;\n",
       "  max-width: 50ex;\n",
       "  color: var(--sklearn-color-text);\n",
       "  box-shadow: 2pt 2pt 4pt #999;\n",
       "  /* unfitted */\n",
       "  background: var(--sklearn-color-unfitted-level-0);\n",
       "  border: .5pt solid var(--sklearn-color-unfitted-level-3);\n",
       "}\n",
       "\n",
       ".sk-estimator-doc-link.fitted span {\n",
       "  /* fitted */\n",
       "  background: var(--sklearn-color-fitted-level-0);\n",
       "  border: var(--sklearn-color-fitted-level-3);\n",
       "}\n",
       "\n",
       ".sk-estimator-doc-link:hover span {\n",
       "  display: block;\n",
       "}\n",
       "\n",
       "/* \"?\"-specific style due to the `<a>` HTML tag */\n",
       "\n",
       "#sk-container-id-1 a.estimator_doc_link {\n",
       "  float: right;\n",
       "  font-size: 1rem;\n",
       "  line-height: 1em;\n",
       "  font-family: monospace;\n",
       "  background-color: var(--sklearn-color-background);\n",
       "  border-radius: 1rem;\n",
       "  height: 1rem;\n",
       "  width: 1rem;\n",
       "  text-decoration: none;\n",
       "  /* unfitted */\n",
       "  color: var(--sklearn-color-unfitted-level-1);\n",
       "  border: var(--sklearn-color-unfitted-level-1) 1pt solid;\n",
       "}\n",
       "\n",
       "#sk-container-id-1 a.estimator_doc_link.fitted {\n",
       "  /* fitted */\n",
       "  border: var(--sklearn-color-fitted-level-1) 1pt solid;\n",
       "  color: var(--sklearn-color-fitted-level-1);\n",
       "}\n",
       "\n",
       "/* On hover */\n",
       "#sk-container-id-1 a.estimator_doc_link:hover {\n",
       "  /* unfitted */\n",
       "  background-color: var(--sklearn-color-unfitted-level-3);\n",
       "  color: var(--sklearn-color-background);\n",
       "  text-decoration: none;\n",
       "}\n",
       "\n",
       "#sk-container-id-1 a.estimator_doc_link.fitted:hover {\n",
       "  /* fitted */\n",
       "  background-color: var(--sklearn-color-fitted-level-3);\n",
       "}\n",
       "</style><div id=\"sk-container-id-1\" class=\"sk-top-container\"><div class=\"sk-text-repr-fallback\"><pre>RandomForestRegressor(random_state=1910)</pre><b>In a Jupyter environment, please rerun this cell to show the HTML representation or trust the notebook. <br />On GitHub, the HTML representation is unable to render, please try loading this page with nbviewer.org.</b></div><div class=\"sk-container\" hidden><div class=\"sk-item\"><div class=\"sk-estimator fitted sk-toggleable\"><input class=\"sk-toggleable__control sk-hidden--visually\" id=\"sk-estimator-id-1\" type=\"checkbox\" checked><label for=\"sk-estimator-id-1\" class=\"sk-toggleable__label fitted sk-toggleable__label-arrow\"><div><div>RandomForestRegressor</div></div><div><a class=\"sk-estimator-doc-link fitted\" rel=\"noreferrer\" target=\"_blank\" href=\"https://scikit-learn.org/1.6/modules/generated/sklearn.ensemble.RandomForestRegressor.html\">?<span>Documentation for RandomForestRegressor</span></a><span class=\"sk-estimator-doc-link fitted\">i<span>Fitted</span></span></div></label><div class=\"sk-toggleable__content fitted\"><pre>RandomForestRegressor(random_state=1910)</pre></div> </div></div></div></div>"
      ],
      "text/plain": [
       "RandomForestRegressor(random_state=1910)"
      ]
     },
     "execution_count": 57,
     "metadata": {},
     "output_type": "execute_result"
    }
   ],
   "source": [
    "\n",
    "from sklearn.ensemble import RandomForestRegressor\n",
    "\n",
    "rf = RandomForestRegressor(random_state=random_state)\n",
    "\n",
    "rf.fit(X_train, y_train)\n"
   ]
  },
  {
   "cell_type": "code",
   "execution_count": 58,
   "metadata": {},
   "outputs": [
    {
     "name": "stdout",
     "output_type": "stream",
     "text": [
      "Mean Absolute Error:  25.178163423768556\n"
     ]
    }
   ],
   "source": [
    "from sklearn.metrics import mean_absolute_error\n",
    "\n",
    "predictions = rf.predict(X_val)\n",
    "mae = mean_absolute_error(y_val, predictions)\n",
    "print(\"Mean Absolute Error: \", mae)"
   ]
  },
  {
   "cell_type": "code",
   "execution_count": 59,
   "metadata": {},
   "outputs": [
    {
     "name": "stdout",
     "output_type": "stream",
     "text": [
      "The Weighted Mean Absolute Error is:  35.40388328127308\n"
     ]
    }
   ],
   "source": [
    "# weights\n",
    "X_val_weighted = X_val.merge(weights, on=['unique_id'], how='left')\n",
    "\n",
    "# Compute WMAE\n",
    "X_val_weighted['abs_error'] = np.abs(y_val-y_pred)\n",
    "\n",
    "wmae = (np.sum(X_val_weighted['abs_error'] * X_val_weighted['weight']) / X_val_weighted['weight'].sum())\n",
    "\n",
    "print(\"The Weighted Mean Absolute Error is: \", wmae)"
   ]
  },
  {
   "cell_type": "code",
   "execution_count": null,
   "metadata": {},
   "outputs": [
    {
     "data": {
      "image/png": "[encoded data removed]",
      "text/plain": [
       "<Figure size 640x480 with 1 Axes>"
      ]
     },
     "metadata": {},
     "output_type": "display_data"
    }
   ],
   "source": [
    "\n",
    "#check feature importance\n",
    "rf_importances = pd.DataFrame(rf.feature_importances_, X.columns)\n",
    "fig, ax = plt.subplots()\n",
    "rf_importances.plot.bar(ax=ax, legend=False)\n",
    "ax.set_title(\"Feature importances using MDI\")  # mean decrease in impurity\n",
    "ax.set_ylabel(\"Mean decrease in impurity\")\n",
    "fig.tight_layout()\n"
   ]
  },
  {
   "cell_type": "code",
   "execution_count": null,
   "metadata": {},
   "outputs": [],
   "source": [
    "predictions = model.predict(test)\n",
    "\n",
    "solution['sales_hat'] = predictions\n",
    "\n",
    "solution.head()"
   ]
  },
  {
   "cell_type": "markdown",
   "metadata": {},
   "source": [
    "# Results\n",
    "\n",
    "`df` = `sales_train` + `sales_test`"
   ]
  },
  {
   "cell_type": "markdown",
   "metadata": {},
   "source": [
    "| # | Model | MAE | WMAE | DFs in training | Observations\n",
    "|:-:|:-:|:-:|:-:|:-:|:-:|\n",
    "| #0| LightGB |32.04|7.24|`df`| `discount` created as instructed in the Overview section and `availability` dropped\n",
    "| #1| LightGB |27.81|7.38|`df`| `Rolling`, `Lag`, and `Basic date` features added to df\n",
    "| #2| LightGB |28.13|7.44|`df`| `days_to_holiday` added. USELESS, as well as the entire `calendar` table\n",
    "| #3| LightGB |22.52|6.10|`df` and `inventory`| **NEW BEST**\n",
    "| #4| LightGB |22.68|6.15|`df` and `inventory`| `category_name` was created combining all category_name features. USELESS\n",
    "| #5| LightGB |22.48|6.09|`df` and `inventory`| **NEW BEST**: `country` was created based on warehouses. \n",
    "| #6| LightGB |22.48|6.07|`df` and `inventory`| **NEW BEST**: `city` was created based on warehouses. Not a lot better than #5\n",
    "| #7| LightGB |22.64|6.16|`df`, `inventory`, `weather`| Relevant features from `weather` df: sunrise, sunset, name_y, temp, feelslike\n",
    "| #8| LightGB |22.28|6.01|`df`, `inventory`, `weather`| **NEW BEST**: With only the 5 features from `weather` mentioned in test #7\n",
    "| #9| LightGB |22.28|6.04|`df`, `inventory`, `weather`| one-hot encode applied in the `city` column. USELESS\n",
    "| #10| LightGB |20.25|5.59|`df`, `inventory`, `weather`| **NEW BEST**: `mean_sales` implemented following terget encoding chapter"
   ]
  }
 ],
 "metadata": {
  "accelerator": "TPU",
  "colab": {
   "collapsed_sections": [
    "8sjm8lBaLOem",
    "0opgBH9ILOes",
    "PVgwjsWJLOex",
    "soef7HB7LOe2"
   ],
   "gpuType": "V28",
   "provenance": []
  },
  "kernelspec": {
   "display_name": "Python 3",
   "name": "python3"
  },
  "language_info": {
   "codemirror_mode": {
    "name": "ipython",
    "version": 3
   },
   "file_extension": ".py",
   "mimetype": "text/x-python",
   "name": "python",
   "nbconvert_exporter": "python",
   "pygments_lexer": "ipython3",
   "version": "3.12.1"
  }
 },
 "nbformat": 4,
 "nbformat_minor": 0
}
