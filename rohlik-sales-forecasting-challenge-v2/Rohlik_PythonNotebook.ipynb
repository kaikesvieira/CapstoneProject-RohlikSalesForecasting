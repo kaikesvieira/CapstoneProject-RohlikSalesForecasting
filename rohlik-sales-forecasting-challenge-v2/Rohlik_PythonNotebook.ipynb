{
 "cells": [
  {
   "cell_type": "markdown",
   "metadata": {
    "id": "8sjm8lBaLOem"
   },
   "source": [
    "# 1. Overview"
   ]
  },
  {
   "cell_type": "markdown",
   "metadata": {
    "id": "6mnioeyRLOeo"
   },
   "source": [
    "## Description\n",
    "\n",
    "**Why This Matters**\n",
    "\n",
    "Accurate sales forecasts are crucial for planning process, supply chain processes, delivery logistics and inventory management. By optimizing forecasts, we can minimize waste and streamline operations, making our e-grocery services more sustainable and efficient.\n",
    "\n",
    "**Your Impact**\n",
    "\n",
    "Your participation in this challenge will directly contribute to Rohlik mission of sustainable and efficient e-grocery delivery. Your insights will help us enhance customer service and achieve a greener future."
   ]
  },
  {
   "cell_type": "markdown",
   "metadata": {
    "id": "tvhPlaLJLOep"
   },
   "source": [
    "We are relaunching the Challenge with prizes.\n",
    "\n",
    "Rohlik Group, a leading European e-grocery innovator, is revolutionising the food retail industry. We operate across 11 warehouses in Czech Republic, Germany, Austria, Hungary, and Romania.\n",
    "\n",
    "We are now transitioning from the Rohlik Orders Forecasting Challenge to the Rohlik Sales Forecasting Challenge, as we continue with our set of challenges. This challenge focuses on predicting the sales of each selected warehouse inventory for next 14 days using historical sales data."
   ]
  },
  {
   "cell_type": "markdown",
   "metadata": {
    "id": "cmwjnKCWLOer"
   },
   "source": [
    "## Evaluation\n",
    "\n",
    "Submissions are evaluated on Weighted Mean Absolute Error (WMAE) between the predicted sales and the actual sales. Weights for the test evaluation can be found in the Data section."
   ]
  },
  {
   "cell_type": "markdown",
   "metadata": {
    "id": "Wn10LuHRLOer"
   },
   "source": [
    "## Submission File\n",
    "\n",
    "For each ID in the test set, you must predict a probability for the TARGET variable. The file should contain a header and have the following format:\n",
    "\n",
    "id,sales_hat\n",
    "\n",
    "840_2024-06-10,12.01\n",
    "\n",
    "2317_2024-06-15,13.32\n",
    "\n",
    "738_2024-06-10,14.12\n",
    "\n",
    "3894_2024-06-11,3.03\n",
    "\n",
    "3393_2024-06-08,53.03\n"
   ]
  },
  {
   "cell_type": "markdown",
   "metadata": {
    "id": "SzQAZ8W-LOer"
   },
   "source": [
    "## Prizes\n",
    "Leaderboard prizes\n",
    "\n",
    "1st place - $4,000\n",
    "\n",
    "2nd place - $4,000\n",
    "\n",
    "3rd place - $2,000"
   ]
  },
  {
   "cell_type": "markdown",
   "metadata": {
    "id": "4IywSr2PLOes"
   },
   "source": [
    "## Citation\n",
    "\n",
    "MichalKecera. Rohlik Sales Forecasting Challenge. https://kaggle.com/competitions/rohlik-sales-forecasting-challenge-v2, 2024. Kaggle."
   ]
  },
  {
   "cell_type": "markdown",
   "metadata": {
    "id": "0opgBH9ILOes"
   },
   "source": [
    "## Data"
   ]
  },
  {
   "cell_type": "markdown",
   "metadata": {
    "id": "xeIeoID4LOes"
   },
   "source": [
    "## Dataset Description\n",
    "You are provided with historical sales data for selected Rohlik inventory and date. IDs, sales, total orders and price columns are altered to keep the real values confidential. Some features are not available in test as they are not known at the moment of making the prediction. The task is to forecast the sales column for a given id, constructed from unique_id and date (e. g. id 1226_2024-06-03 from unique_id 1226 and date 2024-06-03), for the test set.\n",
    "\n"
   ]
  },
  {
   "cell_type": "markdown",
   "metadata": {
    "id": "FtH0nBRILOes"
   },
   "source": [
    "## Files\n",
    "- **sales_train.csv** - training set containing the historical sales data for given date and inventory with selected features described below\n",
    "- **sales_test.csv** - full testing set\n",
    "- **inventory.csv** - additional information about inventory like its product (same products across all warehouses share same product unique id and name, but have different unique id)\n",
    "- **solution.csv** - full submission file in the correct format\n",
    "- **calendar.csv** - calendar containing data about holidays or warehouse specific events, some columns are already in the train data but there are additional rows in this file for dates where some warehouses could be closed due to public holiday or Sunday (and therefore they are not in the train set)\n",
    "\n"
   ]
  },
  {
   "cell_type": "markdown",
   "metadata": {
    "id": "W0zt0zXcLOet"
   },
   "source": [
    "## Columns\n",
    "**sales_train.csv** and **sales_test.csv**\n",
    "\n",
    "- `unique_id` - unique id for inventory\n",
    "- `date` - date\n",
    "- `warehouse` - warehouse name\n",
    "- `total_orders` - historical orders for selected Rohlik warehouse known also for test set as a part of this challenge\n",
    "- `sales` - Target value, sales volume (either in pcs or kg) adjusted by availability. The sales with lower availability than 1 are already adjusted to full potential sales by Rohlik internal logic. There might be missing dates both in train and test for a given inventory due to various reasons. This column is missing in test.csv as it is target variable.\n",
    "- `sell_price_main` - sell price\n",
    "- `availability` - proportion of the day that the inventory was available to customers. The inventory doesn't need to be available at all times. A value of 1 means it was available for the entire day. This column is missing in test.csv as it is not known at the moment of making the prediction.\n",
    "- `type_0_discount`, type_1_discount, … - Rohlik is running different types of promo sale actions, these show the percentage of the original price during promo ((original price - current_price) / original_price). Multiple discounts with different type can be run at the same time, but always the highest possible discount among these types is used for sales. Negative discount value should be interpreted as no discount.\n",
    "\n",
    "**inventory.csv**\n",
    "\n",
    "- `unique_id` - inventory id for a single keeping unit\n",
    "- `product_unique_id` - product id, inventory in each warehouse has the same product unique id (same products across all warehouses has the same product id, but different unique id)\n",
    "- `name` - inventory id for a single keeping unit\n",
    "L1_category_name, L2_category_name, … - name of the internal category, the higher the number, the more granular information is present\n",
    "- `warehouse` - warehouse name\n",
    "\n",
    "**calendar.csv**\n",
    "\n",
    "- `warehouse` - warehouse name\n",
    "- `date` - date\n",
    "- `holiday_name` - name of public holiday if any\n",
    "- `holiday` - 0/1 indicating the presence of holidays\n",
    "- `shops_closed` - public holiday with most of the shops or large part of shops closed\n",
    "- `winter_school_holidays` - winter school holidays\n",
    "- `school_holidays` - school holidays\n",
    "\n",
    "**test_weights.csv**\n",
    "\n",
    "- `unique_id` - inventory id for a single keeping unit\n",
    "- `weight` - weight used for final metric computation"
   ]
  },
  {
   "cell_type": "code",
   "execution_count": null,
   "metadata": {
    "id": "1B-jf8eTM2KW"
   },
   "outputs": [],
   "source": [
    "# import urllib.request\n",
    "# import sys\n",
    "\n",
    "# import csv\n",
    "# import codecs\n",
    "\n",
    "# try:\n",
    "#   ResultBytes = urllib.request.urlopen(\"https://weather.visualcrossing.com/VisualCrossingWebServices/rest/services/timeline/47.499190541054894%2C%2019.043086682180125/2024-01-01/2024-06-16?unitGroup=metric&include=days&key=PQXJR5FWV2MW5H9MT7FF9YYLR&contentType=csv\")\n",
    "\n",
    "#   # Parse the results as CSV\n",
    "#   CSVText = csv.reader(codecs.iterdecode(ResultBytes, 'utf-8'))\n",
    "\n",
    "# except urllib.error.HTTPError  as e:\n",
    "#   ErrorInfo= e.read().decode()\n",
    "#   print('Error code: ', e.code, ErrorInfo)\n",
    "#   sys.exit()\n",
    "# except  urllib.error.URLError as e:\n",
    "#   ErrorInfo= e.read().decode()\n",
    "#   print('Error code: ', e.code,ErrorInfo)\n",
    "#   sys.exit()"
   ]
  },
  {
   "cell_type": "code",
   "execution_count": null,
   "metadata": {
    "id": "M3D5iAEuM2KX"
   },
   "outputs": [],
   "source": [
    "# import pandas as pd\n",
    "# budapest_weather = pd.DataFrame(CSVText)\n",
    "# budapest_weather.to_csv('weather/budapest_weather_2024.csv')"
   ]
  },
  {
   "cell_type": "code",
   "execution_count": null,
   "metadata": {
    "id": "Ozlls95FM2KX"
   },
   "outputs": [],
   "source": [
    "# budapest_weather_2020 = pd.read_csv('weather/budapest_weather_2020.csv')\n",
    "# budapest_weather_2021 = pd.read_csv('weather/budapest_weather_2021.csv')\n",
    "# budapest_weather_2022 = pd.read_csv('weather/budapest_weather_2022.csv')\n",
    "# budapest_weather_2023 = pd.read_csv('weather/budapest_weather_2023.csv')\n",
    "# budapest_weather_2024 = pd.read_csv('weather/budapest_weather_2024.csv')\n",
    "\n",
    "# budapest_weather = pd.concat([budapest_weather_2020,\n",
    "#                               budapest_weather_2021,\n",
    "#                               budapest_weather_2022,\n",
    "#                               budapest_weather_2023,\n",
    "#                               budapest_weather_2024],\n",
    "#                               ignore_index=True)\n",
    "\n",
    "# budapest_weather.to_csv('weather/budapest_weather.csv')"
   ]
  },
  {
   "cell_type": "markdown",
   "metadata": {
    "id": "8jnvfrtdM2KY"
   },
   "source": [
    "# 2. Import & Merging"
   ]
  },
  {
   "cell_type": "markdown",
   "metadata": {
    "id": "_z04z_S3M2KY"
   },
   "source": [
    "Mount Drive if in a Colab environment"
   ]
  },
  {
   "cell_type": "code",
   "execution_count": 43,
   "metadata": {
    "colab": {
     "base_uri": "https://localhost:8080/"
    },
    "executionInfo": {
     "elapsed": 23524,
     "status": "ok",
     "timestamp": 1738626304757,
     "user": {
      "displayName": "Kaike dos Santos Vieira",
      "userId": "04975263776408671912"
     },
     "user_tz": 300
    },
    "id": "TX_Qz0mGSGJv",
    "outputId": "99b823ec-5b2a-4e17-c8b3-cca20bf2ccf5"
   },
   "outputs": [],
   "source": [
    "# from google.colab import drive\n",
    "# drive.mount('/content/drive')"
   ]
  },
  {
   "cell_type": "markdown",
   "metadata": {
    "id": "TT8--cgpM2KY"
   },
   "source": [
    "Import packages and tables"
   ]
  },
  {
   "cell_type": "code",
   "execution_count": 44,
   "metadata": {
    "executionInfo": {
     "elapsed": 3318,
     "status": "ok",
     "timestamp": 1738626311735,
     "user": {
      "displayName": "Kaike dos Santos Vieira",
      "userId": "04975263776408671912"
     },
     "user_tz": 300
    },
    "id": "pity28LRLOet"
   },
   "outputs": [],
   "source": [
    "# import\n",
    "import pandas as pd\n",
    "import numpy as np\n",
    "import matplotlib.pyplot as plt\n",
    "import warnings\n",
    "warnings.filterwarnings(\"ignore\")"
   ]
  },
  {
   "cell_type": "code",
   "execution_count": 45,
   "metadata": {
    "executionInfo": {
     "elapsed": 7587,
     "status": "ok",
     "timestamp": 1738626390216,
     "user": {
      "displayName": "Kaike dos Santos Vieira",
      "userId": "04975263776408671912"
     },
     "user_tz": 300
    },
    "id": "vPbL57k2LOeu"
   },
   "outputs": [],
   "source": [
    "path = r''\n",
    "\n",
    "sales_train = pd.read_csv(f'{path}sales_train.csv')\n",
    "sales_test = pd.read_csv(f'{path}sales_test.csv')\n",
    "weights = pd.read_csv(f'{path}test_weights.csv')\n",
    "calendar = pd.read_csv(f'{path}calendar.csv')\n",
    "inventory = pd.read_csv(f'{path}inventory.csv')\n",
    "solution = pd.read_csv(f'{path}solution.csv')\n",
    "prague_weather = pd.read_csv(f'{path}weather/prague_weather.csv', index_col=False)\n",
    "brno_weather = pd.read_csv(f'{path}weather/brno_weather.csv', index_col=False)\n",
    "frankfurt_weather = pd.read_csv(f'{path}weather/frankfurt_weather.csv', index_col=False)\n",
    "munich_weather = pd.read_csv(f'{path}weather/munich_weather.csv', index_col=False)\n",
    "budapest_weather = pd.read_csv(f'{path}weather/budapest_weather.csv', index_col=False)"
   ]
  },
  {
   "cell_type": "markdown",
   "metadata": {
    "id": "zIZr851yM2KZ"
   },
   "source": [
    "Concat `sales_train` and `sales_test`. This process will make feature engineering simpler and the `sales_df` can be split further.\n",
    "\n",
    "`sales_train`: max date = 2024-06-02\n",
    "\n",
    "`sales_test`: min date = 2024-06-03\n",
    "\n",
    "OBS: Drop the `availability` column in the `sales_train` is necessary, as well as NaN values."
   ]
  },
  {
   "cell_type": "code",
   "execution_count": 46,
   "metadata": {
    "executionInfo": {
     "elapsed": 1160,
     "status": "ok",
     "timestamp": 1738626400940,
     "user": {
      "displayName": "Kaike dos Santos Vieira",
      "userId": "04975263776408671912"
     },
     "user_tz": 300
    },
    "id": "MRtPhjIpM2KZ"
   },
   "outputs": [],
   "source": [
    "# drop availability column\n",
    "sales_train.drop(columns=['availability'], axis=1, inplace=True)\n",
    "\n",
    "# drop 52 rows with NA values\n",
    "sales_train.dropna(inplace=True)\n",
    "\n",
    "# concat sales dataframes\n",
    "sales_df = pd.concat([sales_train,\n",
    "                     sales_test],\n",
    "                     ignore_index=True)"
   ]
  },
  {
   "cell_type": "markdown",
   "metadata": {
    "id": "gpWztjS1M2KZ"
   },
   "source": [
    "Renaming weather columns"
   ]
  },
  {
   "cell_type": "code",
   "execution_count": 47,
   "metadata": {
    "executionInfo": {
     "elapsed": 122,
     "status": "ok",
     "timestamp": 1738626404431,
     "user": {
      "displayName": "Kaike dos Santos Vieira",
      "userId": "04975263776408671912"
     },
     "user_tz": 300
    },
    "id": "fIKyykEiM2KZ"
   },
   "outputs": [],
   "source": [
    "for i, df in enumerate([prague_weather,\n",
    "                        brno_weather,\n",
    "                        frankfurt_weather,\n",
    "                        munich_weather,\n",
    "                        budapest_weather]):\n",
    "\n",
    "    df = df.rename(columns={'datetime': 'date'})\n",
    "\n",
    "    # Assign back to the corresponding variable\n",
    "    if i == 0:\n",
    "        prague_weather = df\n",
    "    if i == 1:\n",
    "        brno_weather = df\n",
    "    elif i == 2:\n",
    "        frankfurt_weather = df\n",
    "    elif i == 3:\n",
    "        munich_weather = df\n",
    "    elif i == 4:\n",
    "        budapest_weather = df"
   ]
  },
  {
   "cell_type": "markdown",
   "metadata": {
    "id": "L4p4cmH7M2KZ"
   },
   "source": [
    "Converting to Datetime"
   ]
  },
  {
   "cell_type": "code",
   "execution_count": 48,
   "metadata": {
    "executionInfo": {
     "elapsed": 106,
     "status": "ok",
     "timestamp": 1738626407940,
     "user": {
      "displayName": "Kaike dos Santos Vieira",
      "userId": "04975263776408671912"
     },
     "user_tz": 300
    },
    "id": "Ihwyp507M2KZ"
   },
   "outputs": [],
   "source": [
    "for i, df in enumerate([sales_df,\n",
    "                        calendar,\n",
    "                        prague_weather,\n",
    "                        brno_weather,\n",
    "                        frankfurt_weather,\n",
    "                        munich_weather,\n",
    "                        budapest_weather]):\n",
    "\n",
    "    df['date'] = pd.to_datetime(df['date'])\n",
    "\n",
    "    # Assign back to the corresponding variable\n",
    "    if i == 0:\n",
    "        sales_df = df\n",
    "    elif i == 1:\n",
    "        calendar = df\n",
    "    elif i == 2:\n",
    "        prague_weather = df\n",
    "    elif i == 3:\n",
    "        brno_weather = df\n",
    "    elif i == 4:\n",
    "        frankfurt_weather = df\n",
    "    elif i == 5:\n",
    "        munich_weather = df\n",
    "    elif i == 6:\n",
    "        budapest_weather = df"
   ]
  },
  {
   "cell_type": "markdown",
   "metadata": {
    "id": "mGJ6SkhuM2Ka"
   },
   "source": [
    "Defining the begining of the `sales_test`"
   ]
  },
  {
   "cell_type": "code",
   "execution_count": 49,
   "metadata": {
    "executionInfo": {
     "elapsed": 126,
     "status": "ok",
     "timestamp": 1738626413597,
     "user": {
      "displayName": "Kaike dos Santos Vieira",
      "userId": "04975263776408671912"
     },
     "user_tz": 300
    },
    "id": "4ijZxKPfM2Ka"
   },
   "outputs": [],
   "source": [
    "min_test_date = pd.to_datetime(sales_test['date'].min())"
   ]
  },
  {
   "cell_type": "markdown",
   "metadata": {
    "id": "GxG2HFGwM2Ka"
   },
   "source": [
    "Merging tables"
   ]
  },
  {
   "cell_type": "code",
   "execution_count": 50,
   "metadata": {
    "executionInfo": {
     "elapsed": 2651,
     "status": "ok",
     "timestamp": 1738626418819,
     "user": {
      "displayName": "Kaike dos Santos Vieira",
      "userId": "04975263776408671912"
     },
     "user_tz": 300
    },
    "id": "OZzb0IUIM2Ka"
   },
   "outputs": [],
   "source": [
    "# calendar\n",
    "sales_df = sales_df.merge(calendar, on=['date', 'warehouse'], how='left')\n",
    "\n",
    "# inventory\n",
    "sales_df = sales_df.merge(inventory, on=['unique_id', 'warehouse'], how='left')"
   ]
  },
  {
   "cell_type": "code",
   "execution_count": 51,
   "metadata": {
    "executionInfo": {
     "elapsed": 8388,
     "status": "ok",
     "timestamp": 1738626432884,
     "user": {
      "displayName": "Kaike dos Santos Vieira",
      "userId": "04975263776408671912"
     },
     "user_tz": 300
    },
    "id": "hciUcPR3LOev"
   },
   "outputs": [],
   "source": [
    "# Dictionary to map warehouse to country\n",
    "warehouse_to_country = {\n",
    "    'Prague': 'Czech Republic',\n",
    "    'Brno': 'Czech Republic',\n",
    "    'Budapest': 'Hungary',\n",
    "    'Munich': 'Germany',\n",
    "    'Frankfurt': 'Germany'\n",
    "}\n",
    "\n",
    "# Create country column based on warehouse\n",
    "sales_df['country'] = sales_df['warehouse'].str.split('_').str[0].map(warehouse_to_country)\n",
    "\n",
    "# Create discount column by selecting max discount value across discount columns\n",
    "discount_cols = [col for col in sales_df.columns if col.startswith('type_') and col.endswith('_discount')]\n",
    "sales_df['discount'] = sales_df[discount_cols].max(axis=1)\n",
    "\n",
    "# Extract date features\n",
    "sales_df['year'] = sales_df['date'].dt.year\n",
    "sales_df['month'] = sales_df['date'].dt.month\n",
    "sales_df['day'] = sales_df['date'].dt.day\n",
    "sales_df['weekday'] = sales_df['date'].dt.day_of_week\n",
    "sales_df['day_of_year'] = sales_df['date'].dt.day_of_year\n",
    "sales_df['date_weekofyear'] = sales_df['date'].dt.isocalendar().week\n",
    "sales_df['is_weekend'] = sales_df['date'].dt.dayofweek.isin([5, 6]).astype(int)\n",
    "\n",
    "# Define Season Mapping\n",
    "season_mapping = {\n",
    "    12: 'Winter', 1: 'Winter', 2: 'Winter',\n",
    "    3: 'Spring', 4: 'Spring', 5: 'Spring',\n",
    "    6: 'Summer', 7: 'Summer', 8: 'Summer',\n",
    "    9: 'Fall', 10: 'Fall', 11: 'Fall'\n",
    "}\n",
    "\n",
    "# Map Months to Seasons\n",
    "sales_df['season'] = sales_df['month'].map(season_mapping)\n",
    "\n",
    "# Fill NaN values in the 'holiday_name' column\n",
    "sales_df['holiday_name'].fillna('Not holiday', inplace=True)\n",
    "\n",
    "# Apply sales binning only where `date` is before `min_test_date`\n",
    "sales_df['sell_price_main_bins'] = pd.qcut(sales_df['sell_price_main'], q=4, labels=False)"
   ]
  },
  {
   "cell_type": "code",
   "execution_count": 52,
   "metadata": {
    "executionInfo": {
     "elapsed": 6359,
     "status": "ok",
     "timestamp": 1738626477465,
     "user": {
      "displayName": "Kaike dos Santos Vieira",
      "userId": "04975263776408671912"
     },
     "user_tz": 300
    },
    "id": "gfPQ-OIXM2Ka"
   },
   "outputs": [],
   "source": [
    "# Warehouse to City Mapping\n",
    "warehouse_city_map = {\n",
    "    'Budapest_1': 'Budapest',\n",
    "    'Prague_2': 'Prague',\n",
    "    'Brno_1': 'Brno',\n",
    "    'Prague_1': 'Prague',\n",
    "    'Prague_3': 'Prague',\n",
    "    'Munich_1': 'Munich',\n",
    "    'Frankfurt_1': 'Frankfurt'\n",
    "}\n",
    "\n",
    "# Weather DataFrames Dictionary (assuming all have the same structure)\n",
    "weather_dfs = {\n",
    "    'Prague': prague_weather,\n",
    "    'Brno': brno_weather,\n",
    "    'Frankfurt': frankfurt_weather,\n",
    "    'Munich': munich_weather,\n",
    "    'Budapest': budapest_weather\n",
    "    # Add other weather DataFrames as needed\n",
    "}\n",
    "\n",
    "# Ensure all DataFrames have the correct date format\n",
    "for df in [sales_train, sales_test] + list(weather_dfs.values()):\n",
    "    df['date'] = pd.to_datetime(df['date']).dt.normalize()\n",
    "\n",
    "# Merge all weather DataFrames into one, keeping the city column\n",
    "merged_weather = pd.concat([\n",
    "    weather_dfs[city].assign(city=city) for city in weather_dfs\n",
    "], ignore_index=True)\n",
    "\n",
    "\n",
    "# Map warehouse to city and drop rows with unknown warehouses\n",
    "sales_df['city'] = sales_df['warehouse'].map(warehouse_city_map)\n",
    "sales_df = sales_df.dropna(subset=['city'])  # Drop rows where city is NaN\n",
    "\n",
    "# Merge sales data with weather data\n",
    "sales_df = sales_df.merge(merged_weather, on=['date', 'city'], how='left')"
   ]
  },
  {
   "cell_type": "markdown",
   "metadata": {
    "id": "ygboKd1VSb6U"
   },
   "source": [
    "Creating a `days_to_holiday` column"
   ]
  },
  {
   "cell_type": "code",
   "execution_count": 53,
   "metadata": {
    "executionInfo": {
     "elapsed": 5132,
     "status": "ok",
     "timestamp": 1738626522297,
     "user": {
      "displayName": "Kaike dos Santos Vieira",
      "userId": "04975263776408671912"
     },
     "user_tz": 300
    },
    "id": "d7SvBH6YLOew"
   },
   "outputs": [],
   "source": [
    "# Create a dictionary of sorted holiday dates per warehouse\n",
    "holiday_dict = {\n",
    "    warehouse: pd.to_datetime(group[group['holiday'] == 1]['date']).sort_values().to_numpy()\n",
    "    for warehouse, group in calendar.groupby('warehouse')\n",
    "}\n",
    "\n",
    "# Generate a lookup table for all combinations of warehouse and date\n",
    "all_dates = pd.concat([sales_train[['warehouse', 'date']], sales_test[['warehouse', 'date']]]).drop_duplicates()\n",
    "all_dates['date'] = pd.to_datetime(all_dates['date'])\n",
    "\n",
    "def calculate_days_to_next_holiday(row):\n",
    "    warehouse = row['warehouse']\n",
    "    current_date = row['date']\n",
    "    holiday_dates = holiday_dict.get(warehouse, np.array([]))  # Get holidays for the warehouse\n",
    "    future_holidays = holiday_dates[holiday_dates > current_date]\n",
    "    if future_holidays.size > 0:\n",
    "        return (future_holidays[0] - current_date).days\n",
    "    return None\n",
    "\n",
    "# Vectorize by applying the function on the lookup table\n",
    "all_dates['days_to_holiday'] = all_dates.apply(calculate_days_to_next_holiday, axis=1)\n",
    "\n",
    "# Merge the precomputed lookup table back into sales_train and sales_test\n",
    "sales_df = sales_df.merge(all_dates, on=['warehouse', 'date'], how='left')"
   ]
  },
  {
   "cell_type": "markdown",
   "metadata": {
    "id": "kZkKKVqAM2Kb"
   },
   "source": [
    "Creating multiple new features"
   ]
  },
  {
   "cell_type": "code",
   "execution_count": 54,
   "metadata": {
    "executionInfo": {
     "elapsed": 602,
     "status": "ok",
     "timestamp": 1738627059728,
     "user": {
      "displayName": "Kaike dos Santos Vieira",
      "userId": "04975263776408671912"
     },
     "user_tz": 300
    },
    "id": "m2zeICybPfPw"
   },
   "outputs": [],
   "source": [
    "# Vectorized approach using numpy\n",
    "conditions = [\n",
    "    (sales_df['precip'] > 10),\n",
    "    (sales_df['precip'] > 2.5) & (sales_df['precip'] <= 10),\n",
    "    (sales_df['precip'] > 0) & (sales_df['precip'] <= 2.5),\n",
    "    (sales_df['precip'] == 0)\n",
    "]\n",
    "\n",
    "choices = ['Heavy', 'Moderate', 'Light', 'None']\n",
    "\n",
    "# Use np.select() to assign values based on conditions\n",
    "sales_df['precip_intensity'] = np.select(conditions, choices, default='None')"
   ]
  },
  {
   "cell_type": "code",
   "execution_count": 55,
   "metadata": {
    "executionInfo": {
     "elapsed": 103,
     "status": "ok",
     "timestamp": 1738626529411,
     "user": {
      "displayName": "Kaike dos Santos Vieira",
      "userId": "04975263776408671912"
     },
     "user_tz": 300
    },
    "id": "hTF9hemxM2Kb"
   },
   "outputs": [],
   "source": [
    "sales_df['hotday'] = np.where(sales_df['feelslike'] > 25, 1, 0)  # 1 if temp > 25°C, else 0\n",
    "sales_df['coldday'] = np.where(sales_df['feelslike'] < 0, 1, 0)  # 1 if temp < 0°C, else 0"
   ]
  },
  {
   "cell_type": "code",
   "execution_count": 59,
   "metadata": {},
   "outputs": [],
   "source": [
    "# Find the first appearance of each unique_id\n",
    "sales_df['first_seen'] = sales_df.groupby('unique_id')['date'].transform('min')\n",
    "sales_df['new_product'] = (sales_df['date'] - sales_df['first_seen']).dt.days <= 30\n",
    "\n",
    "# Find the first appearance of each unique_id within each warehouse\n",
    "sales_df['first_seen_warehouse'] = sales_df.groupby(['unique_id', 'warehouse'])['date'].transform('min')\n",
    "sales_df['warehouse_new_product'] = (sales_df['date'] - sales_df['first_seen_warehouse']).dt.days <= 30\n",
    "\n",
    "# Convert boolean to integer\n",
    "sales_df['new_product'] = sales_df['new_product'].astype(int)\n",
    "sales_df['warehouse_new_product'] = sales_df['warehouse_new_product'].astype(int)\n",
    "\n",
    "# Drop helper columns if not needed\n",
    "sales_df.drop(columns=['first_seen', 'first_seen_warehouse'], inplace=True)"
   ]
  },
  {
   "cell_type": "code",
   "execution_count": 88,
   "metadata": {},
   "outputs": [],
   "source": [
    "# Sort by warehouse and date to maintain correct order\n",
    "sales_df = sales_df.sort_values(by=['warehouse', 'date']).reset_index(drop=True)\n",
    "\n",
    "# Correct column name (change if necessary)\n",
    "column_name = 'sell_price_main'  # Make sure this is the right column\n",
    "\n",
    "# Rolling window features - Efficient approach\n",
    "sales_df['rolling_mean_7d'] = sales_df.groupby('warehouse')[column_name]\\\n",
    "    .apply(lambda x: x.rolling(window=7, min_periods=1).mean()).reset_index(level=0, drop=True)\n",
    "\n",
    "sales_df['rolling_sum_7d'] = sales_df.groupby('warehouse')[column_name]\\\n",
    "    .apply(lambda x: x.rolling(window=7, min_periods=1).sum()).reset_index(level=0, drop=True)\n",
    "\n",
    "# Lag features - Shift values within each warehouse\n",
    "sales_df['lag_1d'] = sales_df.groupby('warehouse')[column_name].shift(1)\n",
    "sales_df['lag_7d'] = sales_df.groupby('warehouse')[column_name].shift(7)\n",
    "\n",
    "# fill NaN with median\n",
    "sales_df['lag_1d'].fillna(sales_df['lag_1d'].median(), inplace=True)\n",
    "sales_df['lag_7d'].fillna(sales_df['lag_7d'].median(), inplace=True)"
   ]
  },
  {
   "cell_type": "code",
   "execution_count": 89,
   "metadata": {
    "executionInfo": {
     "elapsed": 1313,
     "status": "ok",
     "timestamp": 1738627211256,
     "user": {
      "displayName": "Kaike dos Santos Vieira",
      "userId": "04975263776408671912"
     },
     "user_tz": 300
    },
    "id": "0gg5GxqQQTlA"
   },
   "outputs": [
    {
     "data": {
      "text/html": [
       "<div>\n",
       "<style scoped>\n",
       "    .dataframe tbody tr th:only-of-type {\n",
       "        vertical-align: middle;\n",
       "    }\n",
       "\n",
       "    .dataframe tbody tr th {\n",
       "        vertical-align: top;\n",
       "    }\n",
       "\n",
       "    .dataframe thead th {\n",
       "        text-align: right;\n",
       "    }\n",
       "</style>\n",
       "<table border=\"1\" class=\"dataframe\">\n",
       "  <thead>\n",
       "    <tr style=\"text-align: right;\">\n",
       "      <th></th>\n",
       "      <th>unique_id</th>\n",
       "      <th>date</th>\n",
       "      <th>warehouse</th>\n",
       "      <th>total_orders</th>\n",
       "      <th>sales</th>\n",
       "      <th>sell_price_main</th>\n",
       "      <th>type_0_discount</th>\n",
       "      <th>type_1_discount</th>\n",
       "      <th>type_2_discount</th>\n",
       "      <th>type_3_discount</th>\n",
       "      <th>...</th>\n",
       "      <th>precip_intensity</th>\n",
       "      <th>hotday</th>\n",
       "      <th>coldday</th>\n",
       "      <th>new_product</th>\n",
       "      <th>warehouse_new_product</th>\n",
       "      <th>group_index</th>\n",
       "      <th>rolling_mean_7d</th>\n",
       "      <th>rolling_sum_7d</th>\n",
       "      <th>lag_1d</th>\n",
       "      <th>lag_7d</th>\n",
       "    </tr>\n",
       "  </thead>\n",
       "  <tbody>\n",
       "    <tr>\n",
       "      <th>0</th>\n",
       "      <td>958</td>\n",
       "      <td>2020-08-01</td>\n",
       "      <td>Prague_1</td>\n",
       "      <td>4111.0</td>\n",
       "      <td>14.32</td>\n",
       "      <td>87.24</td>\n",
       "      <td>0.0</td>\n",
       "      <td>0.0</td>\n",
       "      <td>0.0</td>\n",
       "      <td>0.0</td>\n",
       "      <td>...</td>\n",
       "      <td>None</td>\n",
       "      <td>0</td>\n",
       "      <td>0</td>\n",
       "      <td>1</td>\n",
       "      <td>1</td>\n",
       "      <td>0</td>\n",
       "      <td>87.240000</td>\n",
       "      <td>87.24</td>\n",
       "      <td>43.88</td>\n",
       "      <td>43.88</td>\n",
       "    </tr>\n",
       "    <tr>\n",
       "      <th>1</th>\n",
       "      <td>4826</td>\n",
       "      <td>2020-08-01</td>\n",
       "      <td>Prague_1</td>\n",
       "      <td>4111.0</td>\n",
       "      <td>4.77</td>\n",
       "      <td>15.28</td>\n",
       "      <td>0.0</td>\n",
       "      <td>0.0</td>\n",
       "      <td>0.0</td>\n",
       "      <td>0.0</td>\n",
       "      <td>...</td>\n",
       "      <td>None</td>\n",
       "      <td>0</td>\n",
       "      <td>0</td>\n",
       "      <td>1</td>\n",
       "      <td>1</td>\n",
       "      <td>1</td>\n",
       "      <td>51.260000</td>\n",
       "      <td>102.52</td>\n",
       "      <td>87.24</td>\n",
       "      <td>43.88</td>\n",
       "    </tr>\n",
       "    <tr>\n",
       "      <th>2</th>\n",
       "      <td>1646</td>\n",
       "      <td>2020-08-01</td>\n",
       "      <td>Prague_1</td>\n",
       "      <td>4111.0</td>\n",
       "      <td>9.55</td>\n",
       "      <td>21.76</td>\n",
       "      <td>0.0</td>\n",
       "      <td>0.0</td>\n",
       "      <td>0.0</td>\n",
       "      <td>0.0</td>\n",
       "      <td>...</td>\n",
       "      <td>None</td>\n",
       "      <td>0</td>\n",
       "      <td>0</td>\n",
       "      <td>1</td>\n",
       "      <td>1</td>\n",
       "      <td>2</td>\n",
       "      <td>41.426667</td>\n",
       "      <td>124.28</td>\n",
       "      <td>15.28</td>\n",
       "      <td>43.88</td>\n",
       "    </tr>\n",
       "    <tr>\n",
       "      <th>3</th>\n",
       "      <td>4337</td>\n",
       "      <td>2020-08-01</td>\n",
       "      <td>Prague_1</td>\n",
       "      <td>4086.0</td>\n",
       "      <td>131.81</td>\n",
       "      <td>21.78</td>\n",
       "      <td>0.0</td>\n",
       "      <td>0.0</td>\n",
       "      <td>0.0</td>\n",
       "      <td>0.0</td>\n",
       "      <td>...</td>\n",
       "      <td>None</td>\n",
       "      <td>0</td>\n",
       "      <td>0</td>\n",
       "      <td>1</td>\n",
       "      <td>1</td>\n",
       "      <td>3</td>\n",
       "      <td>36.515000</td>\n",
       "      <td>146.06</td>\n",
       "      <td>21.76</td>\n",
       "      <td>43.88</td>\n",
       "    </tr>\n",
       "    <tr>\n",
       "      <th>4</th>\n",
       "      <td>1528</td>\n",
       "      <td>2020-08-01</td>\n",
       "      <td>Prague_1</td>\n",
       "      <td>4111.0</td>\n",
       "      <td>105.04</td>\n",
       "      <td>28.26</td>\n",
       "      <td>0.0</td>\n",
       "      <td>0.0</td>\n",
       "      <td>0.0</td>\n",
       "      <td>0.0</td>\n",
       "      <td>...</td>\n",
       "      <td>None</td>\n",
       "      <td>0</td>\n",
       "      <td>0</td>\n",
       "      <td>1</td>\n",
       "      <td>1</td>\n",
       "      <td>4</td>\n",
       "      <td>34.864000</td>\n",
       "      <td>174.32</td>\n",
       "      <td>21.78</td>\n",
       "      <td>43.88</td>\n",
       "    </tr>\n",
       "    <tr>\n",
       "      <th>5</th>\n",
       "      <td>40</td>\n",
       "      <td>2020-08-01</td>\n",
       "      <td>Prague_1</td>\n",
       "      <td>4111.0</td>\n",
       "      <td>40.58</td>\n",
       "      <td>40.98</td>\n",
       "      <td>0.0</td>\n",
       "      <td>0.0</td>\n",
       "      <td>0.0</td>\n",
       "      <td>0.0</td>\n",
       "      <td>...</td>\n",
       "      <td>None</td>\n",
       "      <td>0</td>\n",
       "      <td>0</td>\n",
       "      <td>1</td>\n",
       "      <td>1</td>\n",
       "      <td>5</td>\n",
       "      <td>35.883333</td>\n",
       "      <td>215.30</td>\n",
       "      <td>28.26</td>\n",
       "      <td>43.88</td>\n",
       "    </tr>\n",
       "    <tr>\n",
       "      <th>6</th>\n",
       "      <td>3566</td>\n",
       "      <td>2020-08-01</td>\n",
       "      <td>Prague_1</td>\n",
       "      <td>4111.0</td>\n",
       "      <td>22.32</td>\n",
       "      <td>55.93</td>\n",
       "      <td>0.0</td>\n",
       "      <td>0.0</td>\n",
       "      <td>0.0</td>\n",
       "      <td>0.0</td>\n",
       "      <td>...</td>\n",
       "      <td>None</td>\n",
       "      <td>0</td>\n",
       "      <td>0</td>\n",
       "      <td>1</td>\n",
       "      <td>1</td>\n",
       "      <td>6</td>\n",
       "      <td>38.747143</td>\n",
       "      <td>271.23</td>\n",
       "      <td>40.98</td>\n",
       "      <td>43.88</td>\n",
       "    </tr>\n",
       "    <tr>\n",
       "      <th>7</th>\n",
       "      <td>2377</td>\n",
       "      <td>2020-08-01</td>\n",
       "      <td>Prague_1</td>\n",
       "      <td>4111.0</td>\n",
       "      <td>13.99</td>\n",
       "      <td>143.14</td>\n",
       "      <td>0.0</td>\n",
       "      <td>0.0</td>\n",
       "      <td>0.0</td>\n",
       "      <td>0.0</td>\n",
       "      <td>...</td>\n",
       "      <td>None</td>\n",
       "      <td>0</td>\n",
       "      <td>0</td>\n",
       "      <td>1</td>\n",
       "      <td>1</td>\n",
       "      <td>7</td>\n",
       "      <td>46.732857</td>\n",
       "      <td>327.13</td>\n",
       "      <td>55.93</td>\n",
       "      <td>87.24</td>\n",
       "    </tr>\n",
       "    <tr>\n",
       "      <th>8</th>\n",
       "      <td>2142</td>\n",
       "      <td>2020-08-01</td>\n",
       "      <td>Prague_1</td>\n",
       "      <td>4111.0</td>\n",
       "      <td>40.58</td>\n",
       "      <td>62.79</td>\n",
       "      <td>0.0</td>\n",
       "      <td>0.0</td>\n",
       "      <td>0.0</td>\n",
       "      <td>0.0</td>\n",
       "      <td>...</td>\n",
       "      <td>None</td>\n",
       "      <td>0</td>\n",
       "      <td>0</td>\n",
       "      <td>1</td>\n",
       "      <td>1</td>\n",
       "      <td>8</td>\n",
       "      <td>53.520000</td>\n",
       "      <td>374.64</td>\n",
       "      <td>143.14</td>\n",
       "      <td>15.28</td>\n",
       "    </tr>\n",
       "    <tr>\n",
       "      <th>9</th>\n",
       "      <td>4800</td>\n",
       "      <td>2020-08-01</td>\n",
       "      <td>Prague_1</td>\n",
       "      <td>4111.0</td>\n",
       "      <td>25.16</td>\n",
       "      <td>35.30</td>\n",
       "      <td>0.0</td>\n",
       "      <td>0.0</td>\n",
       "      <td>0.0</td>\n",
       "      <td>0.0</td>\n",
       "      <td>...</td>\n",
       "      <td>None</td>\n",
       "      <td>0</td>\n",
       "      <td>0</td>\n",
       "      <td>1</td>\n",
       "      <td>1</td>\n",
       "      <td>9</td>\n",
       "      <td>55.454286</td>\n",
       "      <td>388.18</td>\n",
       "      <td>62.79</td>\n",
       "      <td>21.76</td>\n",
       "    </tr>\n",
       "  </tbody>\n",
       "</table>\n",
       "<p>10 rows × 79 columns</p>\n",
       "</div>"
      ],
      "text/plain": [
       "   unique_id       date warehouse  total_orders   sales  sell_price_main  \\\n",
       "0        958 2020-08-01  Prague_1        4111.0   14.32            87.24   \n",
       "1       4826 2020-08-01  Prague_1        4111.0    4.77            15.28   \n",
       "2       1646 2020-08-01  Prague_1        4111.0    9.55            21.76   \n",
       "3       4337 2020-08-01  Prague_1        4086.0  131.81            21.78   \n",
       "4       1528 2020-08-01  Prague_1        4111.0  105.04            28.26   \n",
       "5         40 2020-08-01  Prague_1        4111.0   40.58            40.98   \n",
       "6       3566 2020-08-01  Prague_1        4111.0   22.32            55.93   \n",
       "7       2377 2020-08-01  Prague_1        4111.0   13.99           143.14   \n",
       "8       2142 2020-08-01  Prague_1        4111.0   40.58            62.79   \n",
       "9       4800 2020-08-01  Prague_1        4111.0   25.16            35.30   \n",
       "\n",
       "   type_0_discount  type_1_discount  type_2_discount  type_3_discount  ...  \\\n",
       "0              0.0              0.0              0.0              0.0  ...   \n",
       "1              0.0              0.0              0.0              0.0  ...   \n",
       "2              0.0              0.0              0.0              0.0  ...   \n",
       "3              0.0              0.0              0.0              0.0  ...   \n",
       "4              0.0              0.0              0.0              0.0  ...   \n",
       "5              0.0              0.0              0.0              0.0  ...   \n",
       "6              0.0              0.0              0.0              0.0  ...   \n",
       "7              0.0              0.0              0.0              0.0  ...   \n",
       "8              0.0              0.0              0.0              0.0  ...   \n",
       "9              0.0              0.0              0.0              0.0  ...   \n",
       "\n",
       "   precip_intensity  hotday  coldday new_product  warehouse_new_product  \\\n",
       "0              None       0        0           1                      1   \n",
       "1              None       0        0           1                      1   \n",
       "2              None       0        0           1                      1   \n",
       "3              None       0        0           1                      1   \n",
       "4              None       0        0           1                      1   \n",
       "5              None       0        0           1                      1   \n",
       "6              None       0        0           1                      1   \n",
       "7              None       0        0           1                      1   \n",
       "8              None       0        0           1                      1   \n",
       "9              None       0        0           1                      1   \n",
       "\n",
       "   group_index  rolling_mean_7d  rolling_sum_7d  lag_1d lag_7d  \n",
       "0            0        87.240000           87.24   43.88  43.88  \n",
       "1            1        51.260000          102.52   87.24  43.88  \n",
       "2            2        41.426667          124.28   15.28  43.88  \n",
       "3            3        36.515000          146.06   21.76  43.88  \n",
       "4            4        34.864000          174.32   21.78  43.88  \n",
       "5            5        35.883333          215.30   28.26  43.88  \n",
       "6            6        38.747143          271.23   40.98  43.88  \n",
       "7            7        46.732857          327.13   55.93  87.24  \n",
       "8            8        53.520000          374.64  143.14  15.28  \n",
       "9            9        55.454286          388.18   62.79  21.76  \n",
       "\n",
       "[10 rows x 79 columns]"
      ]
     },
     "execution_count": 89,
     "metadata": {},
     "output_type": "execute_result"
    }
   ],
   "source": [
    "sales_df.head(10)"
   ]
  },
  {
   "cell_type": "markdown",
   "metadata": {},
   "source": [
    "# Working with only one warehouse\n",
    "\n",
    "Following the suggestion of professor Mark Cassar, we will start working with only one warehouse. Prague_1 was selected, as it has the largest number of observations."
   ]
  },
  {
   "cell_type": "code",
   "execution_count": 90,
   "metadata": {},
   "outputs": [],
   "source": [
    "sales_df = sales_df[sales_df['warehouse'] == 'Prague_1']"
   ]
  },
  {
   "cell_type": "markdown",
   "metadata": {
    "id": "OedtzkPoLOew"
   },
   "source": [
    "# Prediction Model\n"
   ]
  },
  {
   "cell_type": "code",
   "execution_count": 91,
   "metadata": {},
   "outputs": [],
   "source": [
    "train = sales_df[sales_df['date'] < min_test_date]\n",
    "test = sales_df[sales_df['date'] >= min_test_date]"
   ]
  },
  {
   "cell_type": "markdown",
   "metadata": {
    "id": "sht70-G5Su-m"
   },
   "source": [
    "Check the balance of the training set"
   ]
  },
  {
   "cell_type": "code",
   "execution_count": 92,
   "metadata": {
    "colab": {
     "base_uri": "https://localhost:8080/",
     "height": 584
    },
    "executionInfo": {
     "elapsed": 217,
     "status": "ok",
     "timestamp": 1738627783498,
     "user": {
      "displayName": "Kaike dos Santos Vieira",
      "userId": "04975263776408671912"
     },
     "user_tz": 300
    },
    "id": "rpqaR1-tRlue",
    "outputId": "bc3e9396-ef7d-4b56-9927-fe33b9039d59"
   },
   "outputs": [
    {
     "name": "stdout",
     "output_type": "stream",
     "text": [
      "sell_price_main_bins\n",
      "1    264275\n",
      "2    259341\n",
      "0    142856\n",
      "3    114094\n",
      "Name: count, dtype: int64\n"
     ]
    },
    {
     "data": {
      "image/png": "[encoded data removed]",
      "text/plain": [
       "<Figure size 640x480 with 1 Axes>"
      ]
     },
     "metadata": {},
     "output_type": "display_data"
    }
   ],
   "source": [
    "# checking the balance of the dataframe\n",
    "train_balance = train['sell_price_main_bins'].value_counts()\n",
    "\n",
    "# Display the balance\n",
    "print(train_balance)\n",
    "\n",
    "# Optionally, plot the balance\n",
    "train_balance.plot(kind='bar', color='skyblue', edgecolor='black')\n",
    "plt.title('Sell Price Main Balance')\n",
    "plt.xlabel('Sell Price Main Bin')\n",
    "plt.ylabel('Frequency')\n",
    "plt.show()"
   ]
  },
  {
   "cell_type": "markdown",
   "metadata": {
    "id": "45-xwFSyLOew"
   },
   "source": [
    "## Preprocessing\n"
   ]
  },
  {
   "cell_type": "code",
   "execution_count": 93,
   "metadata": {
    "executionInfo": {
     "elapsed": 87,
     "status": "ok",
     "timestamp": 1738629092065,
     "user": {
      "displayName": "Kaike dos Santos Vieira",
      "userId": "04975263776408671912"
     },
     "user_tz": 300
    },
    "id": "jh6QDIsrLOew"
   },
   "outputs": [],
   "source": [
    "random_state = 1910"
   ]
  },
  {
   "cell_type": "code",
   "execution_count": 94,
   "metadata": {},
   "outputs": [],
   "source": [
    "X = train[['unique_id', 'warehouse', 'total_orders',\n",
    "          'sell_price_main', 'type_0_discount', 'type_2_discount',\n",
    "          'product_unique_id', 'name_x', 'L2_category_name_en',\n",
    "          'L3_category_name_en', 'L4_category_name_en', 'country', \n",
    "          'discount', 'weekday', 'day_of_year',\n",
    "          'date_weekofyear', 'city', 'name_y',\n",
    "          'sunrise', 'sunset', 'stations', \n",
    "          'days_to_holiday', 'sell_price_main_bins',\n",
    "          'new_product', 'warehouse_new_product', 'rolling_mean_7d',\n",
    "          'rolling_sum_7d', 'lag_1d', 'lag_7d']]\n",
    "y = train['sales']"
   ]
  },
  {
   "cell_type": "code",
   "execution_count": 95,
   "metadata": {
    "executionInfo": {
     "elapsed": 9416,
     "status": "ok",
     "timestamp": 1738628558906,
     "user": {
      "displayName": "Kaike dos Santos Vieira",
      "userId": "04975263776408671912"
     },
     "user_tz": 300
    },
    "id": "4a79_8t4UUGW"
   },
   "outputs": [],
   "source": [
    "from sklearn.preprocessing import LabelEncoder\n",
    "\n",
    "# Initialize the LabelEncoder\n",
    "le = LabelEncoder()\n",
    "\n",
    "#fi and transform the remaining categorical variables\n",
    "for i in X.select_dtypes('object').columns:\n",
    "        X[i] = le.fit_transform(X[[i]])"
   ]
  },
  {
   "cell_type": "code",
   "execution_count": 96,
   "metadata": {},
   "outputs": [],
   "source": [
    "from sklearn.model_selection import train_test_split\n",
    "\n",
    "X_train, X_val, y_train, y_val = train_test_split( X, y, test_size=0.20, random_state=random_state)"
   ]
  },
  {
   "cell_type": "code",
   "execution_count": 17,
   "metadata": {
    "executionInfo": {
     "elapsed": 927,
     "status": "ok",
     "timestamp": 1738628151107,
     "user": {
      "displayName": "Kaike dos Santos Vieira",
      "userId": "04975263776408671912"
     },
     "user_tz": 300
    },
    "id": "pfALzqM6Q-g2"
   },
   "outputs": [],
   "source": [
    "# from sklearn.preprocessing import OrdinalEncoder\n",
    "\n",
    "# # Initialize the OrdinalEncoder\n",
    "# oe = OrdinalEncoder(categories=[['None', 'Light', 'Moderate', 'Heavy']])  # Specify the order if necessary\n",
    "\n",
    "# # Fit and transform the 'precip_intensity' column\n",
    "# sales_df['precip_intensity'] = oe.fit_transform(sales_df[['precip_intensity']])"
   ]
  },
  {
   "cell_type": "markdown",
   "metadata": {
    "id": "gN53aL6ALOex"
   },
   "source": [
    "## 5.2 Regressor Model"
   ]
  },
  {
   "cell_type": "code",
   "execution_count": 97,
   "metadata": {
    "id": "llGEPZQZLOex"
   },
   "outputs": [
    {
     "data": {
      "text/html": [
       "<style>#sk-container-id-3 {\n",
       "  /* Definition of color scheme common for light and dark mode */\n",
       "  --sklearn-color-text: #000;\n",
       "  --sklearn-color-text-muted: #666;\n",
       "  --sklearn-color-line: gray;\n",
       "  /* Definition of color scheme for unfitted estimators */\n",
       "  --sklearn-color-unfitted-level-0: #fff5e6;\n",
       "  --sklearn-color-unfitted-level-1: #f6e4d2;\n",
       "  --sklearn-color-unfitted-level-2: #ffe0b3;\n",
       "  --sklearn-color-unfitted-level-3: chocolate;\n",
       "  /* Definition of color scheme for fitted estimators */\n",
       "  --sklearn-color-fitted-level-0: #f0f8ff;\n",
       "  --sklearn-color-fitted-level-1: #d4ebff;\n",
       "  --sklearn-color-fitted-level-2: #b3dbfd;\n",
       "  --sklearn-color-fitted-level-3: cornflowerblue;\n",
       "\n",
       "  /* Specific color for light theme */\n",
       "  --sklearn-color-text-on-default-background: var(--sg-text-color, var(--theme-code-foreground, var(--jp-content-font-color1, black)));\n",
       "  --sklearn-color-background: var(--sg-background-color, var(--theme-background, var(--jp-layout-color0, white)));\n",
       "  --sklearn-color-border-box: var(--sg-text-color, var(--theme-code-foreground, var(--jp-content-font-color1, black)));\n",
       "  --sklearn-color-icon: #696969;\n",
       "\n",
       "  @media (prefers-color-scheme: dark) {\n",
       "    /* Redefinition of color scheme for dark theme */\n",
       "    --sklearn-color-text-on-default-background: var(--sg-text-color, var(--theme-code-foreground, var(--jp-content-font-color1, white)));\n",
       "    --sklearn-color-background: var(--sg-background-color, var(--theme-background, var(--jp-layout-color0, #111)));\n",
       "    --sklearn-color-border-box: var(--sg-text-color, var(--theme-code-foreground, var(--jp-content-font-color1, white)));\n",
       "    --sklearn-color-icon: #878787;\n",
       "  }\n",
       "}\n",
       "\n",
       "#sk-container-id-3 {\n",
       "  color: var(--sklearn-color-text);\n",
       "}\n",
       "\n",
       "#sk-container-id-3 pre {\n",
       "  padding: 0;\n",
       "}\n",
       "\n",
       "#sk-container-id-3 input.sk-hidden--visually {\n",
       "  border: 0;\n",
       "  clip: rect(1px 1px 1px 1px);\n",
       "  clip: rect(1px, 1px, 1px, 1px);\n",
       "  height: 1px;\n",
       "  margin: -1px;\n",
       "  overflow: hidden;\n",
       "  padding: 0;\n",
       "  position: absolute;\n",
       "  width: 1px;\n",
       "}\n",
       "\n",
       "#sk-container-id-3 div.sk-dashed-wrapped {\n",
       "  border: 1px dashed var(--sklearn-color-line);\n",
       "  margin: 0 0.4em 0.5em 0.4em;\n",
       "  box-sizing: border-box;\n",
       "  padding-bottom: 0.4em;\n",
       "  background-color: var(--sklearn-color-background);\n",
       "}\n",
       "\n",
       "#sk-container-id-3 div.sk-container {\n",
       "  /* jupyter's `normalize.less` sets `[hidden] { display: none; }`\n",
       "     but bootstrap.min.css set `[hidden] { display: none !important; }`\n",
       "     so we also need the `!important` here to be able to override the\n",
       "     default hidden behavior on the sphinx rendered scikit-learn.org.\n",
       "     See: https://github.com/scikit-learn/scikit-learn/issues/21755 */\n",
       "  display: inline-block !important;\n",
       "  position: relative;\n",
       "}\n",
       "\n",
       "#sk-container-id-3 div.sk-text-repr-fallback {\n",
       "  display: none;\n",
       "}\n",
       "\n",
       "div.sk-parallel-item,\n",
       "div.sk-serial,\n",
       "div.sk-item {\n",
       "  /* draw centered vertical line to link estimators */\n",
       "  background-image: linear-gradient(var(--sklearn-color-text-on-default-background), var(--sklearn-color-text-on-default-background));\n",
       "  background-size: 2px 100%;\n",
       "  background-repeat: no-repeat;\n",
       "  background-position: center center;\n",
       "}\n",
       "\n",
       "/* Parallel-specific style estimator block */\n",
       "\n",
       "#sk-container-id-3 div.sk-parallel-item::after {\n",
       "  content: \"\";\n",
       "  width: 100%;\n",
       "  border-bottom: 2px solid var(--sklearn-color-text-on-default-background);\n",
       "  flex-grow: 1;\n",
       "}\n",
       "\n",
       "#sk-container-id-3 div.sk-parallel {\n",
       "  display: flex;\n",
       "  align-items: stretch;\n",
       "  justify-content: center;\n",
       "  background-color: var(--sklearn-color-background);\n",
       "  position: relative;\n",
       "}\n",
       "\n",
       "#sk-container-id-3 div.sk-parallel-item {\n",
       "  display: flex;\n",
       "  flex-direction: column;\n",
       "}\n",
       "\n",
       "#sk-container-id-3 div.sk-parallel-item:first-child::after {\n",
       "  align-self: flex-end;\n",
       "  width: 50%;\n",
       "}\n",
       "\n",
       "#sk-container-id-3 div.sk-parallel-item:last-child::after {\n",
       "  align-self: flex-start;\n",
       "  width: 50%;\n",
       "}\n",
       "\n",
       "#sk-container-id-3 div.sk-parallel-item:only-child::after {\n",
       "  width: 0;\n",
       "}\n",
       "\n",
       "/* Serial-specific style estimator block */\n",
       "\n",
       "#sk-container-id-3 div.sk-serial {\n",
       "  display: flex;\n",
       "  flex-direction: column;\n",
       "  align-items: center;\n",
       "  background-color: var(--sklearn-color-background);\n",
       "  padding-right: 1em;\n",
       "  padding-left: 1em;\n",
       "}\n",
       "\n",
       "\n",
       "/* Toggleable style: style used for estimator/Pipeline/ColumnTransformer box that is\n",
       "clickable and can be expanded/collapsed.\n",
       "- Pipeline and ColumnTransformer use this feature and define the default style\n",
       "- Estimators will overwrite some part of the style using the `sk-estimator` class\n",
       "*/\n",
       "\n",
       "/* Pipeline and ColumnTransformer style (default) */\n",
       "\n",
       "#sk-container-id-3 div.sk-toggleable {\n",
       "  /* Default theme specific background. It is overwritten whether we have a\n",
       "  specific estimator or a Pipeline/ColumnTransformer */\n",
       "  background-color: var(--sklearn-color-background);\n",
       "}\n",
       "\n",
       "/* Toggleable label */\n",
       "#sk-container-id-3 label.sk-toggleable__label {\n",
       "  cursor: pointer;\n",
       "  display: flex;\n",
       "  width: 100%;\n",
       "  margin-bottom: 0;\n",
       "  padding: 0.5em;\n",
       "  box-sizing: border-box;\n",
       "  text-align: center;\n",
       "  align-items: start;\n",
       "  justify-content: space-between;\n",
       "  gap: 0.5em;\n",
       "}\n",
       "\n",
       "#sk-container-id-3 label.sk-toggleable__label .caption {\n",
       "  font-size: 0.6rem;\n",
       "  font-weight: lighter;\n",
       "  color: var(--sklearn-color-text-muted);\n",
       "}\n",
       "\n",
       "#sk-container-id-3 label.sk-toggleable__label-arrow:before {\n",
       "  /* Arrow on the left of the label */\n",
       "  content: \"▸\";\n",
       "  float: left;\n",
       "  margin-right: 0.25em;\n",
       "  color: var(--sklearn-color-icon);\n",
       "}\n",
       "\n",
       "#sk-container-id-3 label.sk-toggleable__label-arrow:hover:before {\n",
       "  color: var(--sklearn-color-text);\n",
       "}\n",
       "\n",
       "/* Toggleable content - dropdown */\n",
       "\n",
       "#sk-container-id-3 div.sk-toggleable__content {\n",
       "  max-height: 0;\n",
       "  max-width: 0;\n",
       "  overflow: hidden;\n",
       "  text-align: left;\n",
       "  /* unfitted */\n",
       "  background-color: var(--sklearn-color-unfitted-level-0);\n",
       "}\n",
       "\n",
       "#sk-container-id-3 div.sk-toggleable__content.fitted {\n",
       "  /* fitted */\n",
       "  background-color: var(--sklearn-color-fitted-level-0);\n",
       "}\n",
       "\n",
       "#sk-container-id-3 div.sk-toggleable__content pre {\n",
       "  margin: 0.2em;\n",
       "  border-radius: 0.25em;\n",
       "  color: var(--sklearn-color-text);\n",
       "  /* unfitted */\n",
       "  background-color: var(--sklearn-color-unfitted-level-0);\n",
       "}\n",
       "\n",
       "#sk-container-id-3 div.sk-toggleable__content.fitted pre {\n",
       "  /* unfitted */\n",
       "  background-color: var(--sklearn-color-fitted-level-0);\n",
       "}\n",
       "\n",
       "#sk-container-id-3 input.sk-toggleable__control:checked~div.sk-toggleable__content {\n",
       "  /* Expand drop-down */\n",
       "  max-height: 200px;\n",
       "  max-width: 100%;\n",
       "  overflow: auto;\n",
       "}\n",
       "\n",
       "#sk-container-id-3 input.sk-toggleable__control:checked~label.sk-toggleable__label-arrow:before {\n",
       "  content: \"▾\";\n",
       "}\n",
       "\n",
       "/* Pipeline/ColumnTransformer-specific style */\n",
       "\n",
       "#sk-container-id-3 div.sk-label input.sk-toggleable__control:checked~label.sk-toggleable__label {\n",
       "  color: var(--sklearn-color-text);\n",
       "  background-color: var(--sklearn-color-unfitted-level-2);\n",
       "}\n",
       "\n",
       "#sk-container-id-3 div.sk-label.fitted input.sk-toggleable__control:checked~label.sk-toggleable__label {\n",
       "  background-color: var(--sklearn-color-fitted-level-2);\n",
       "}\n",
       "\n",
       "/* Estimator-specific style */\n",
       "\n",
       "/* Colorize estimator box */\n",
       "#sk-container-id-3 div.sk-estimator input.sk-toggleable__control:checked~label.sk-toggleable__label {\n",
       "  /* unfitted */\n",
       "  background-color: var(--sklearn-color-unfitted-level-2);\n",
       "}\n",
       "\n",
       "#sk-container-id-3 div.sk-estimator.fitted input.sk-toggleable__control:checked~label.sk-toggleable__label {\n",
       "  /* fitted */\n",
       "  background-color: var(--sklearn-color-fitted-level-2);\n",
       "}\n",
       "\n",
       "#sk-container-id-3 div.sk-label label.sk-toggleable__label,\n",
       "#sk-container-id-3 div.sk-label label {\n",
       "  /* The background is the default theme color */\n",
       "  color: var(--sklearn-color-text-on-default-background);\n",
       "}\n",
       "\n",
       "/* On hover, darken the color of the background */\n",
       "#sk-container-id-3 div.sk-label:hover label.sk-toggleable__label {\n",
       "  color: var(--sklearn-color-text);\n",
       "  background-color: var(--sklearn-color-unfitted-level-2);\n",
       "}\n",
       "\n",
       "/* Label box, darken color on hover, fitted */\n",
       "#sk-container-id-3 div.sk-label.fitted:hover label.sk-toggleable__label.fitted {\n",
       "  color: var(--sklearn-color-text);\n",
       "  background-color: var(--sklearn-color-fitted-level-2);\n",
       "}\n",
       "\n",
       "/* Estimator label */\n",
       "\n",
       "#sk-container-id-3 div.sk-label label {\n",
       "  font-family: monospace;\n",
       "  font-weight: bold;\n",
       "  display: inline-block;\n",
       "  line-height: 1.2em;\n",
       "}\n",
       "\n",
       "#sk-container-id-3 div.sk-label-container {\n",
       "  text-align: center;\n",
       "}\n",
       "\n",
       "/* Estimator-specific */\n",
       "#sk-container-id-3 div.sk-estimator {\n",
       "  font-family: monospace;\n",
       "  border: 1px dotted var(--sklearn-color-border-box);\n",
       "  border-radius: 0.25em;\n",
       "  box-sizing: border-box;\n",
       "  margin-bottom: 0.5em;\n",
       "  /* unfitted */\n",
       "  background-color: var(--sklearn-color-unfitted-level-0);\n",
       "}\n",
       "\n",
       "#sk-container-id-3 div.sk-estimator.fitted {\n",
       "  /* fitted */\n",
       "  background-color: var(--sklearn-color-fitted-level-0);\n",
       "}\n",
       "\n",
       "/* on hover */\n",
       "#sk-container-id-3 div.sk-estimator:hover {\n",
       "  /* unfitted */\n",
       "  background-color: var(--sklearn-color-unfitted-level-2);\n",
       "}\n",
       "\n",
       "#sk-container-id-3 div.sk-estimator.fitted:hover {\n",
       "  /* fitted */\n",
       "  background-color: var(--sklearn-color-fitted-level-2);\n",
       "}\n",
       "\n",
       "/* Specification for estimator info (e.g. \"i\" and \"?\") */\n",
       "\n",
       "/* Common style for \"i\" and \"?\" */\n",
       "\n",
       ".sk-estimator-doc-link,\n",
       "a:link.sk-estimator-doc-link,\n",
       "a:visited.sk-estimator-doc-link {\n",
       "  float: right;\n",
       "  font-size: smaller;\n",
       "  line-height: 1em;\n",
       "  font-family: monospace;\n",
       "  background-color: var(--sklearn-color-background);\n",
       "  border-radius: 1em;\n",
       "  height: 1em;\n",
       "  width: 1em;\n",
       "  text-decoration: none !important;\n",
       "  margin-left: 0.5em;\n",
       "  text-align: center;\n",
       "  /* unfitted */\n",
       "  border: var(--sklearn-color-unfitted-level-1) 1pt solid;\n",
       "  color: var(--sklearn-color-unfitted-level-1);\n",
       "}\n",
       "\n",
       ".sk-estimator-doc-link.fitted,\n",
       "a:link.sk-estimator-doc-link.fitted,\n",
       "a:visited.sk-estimator-doc-link.fitted {\n",
       "  /* fitted */\n",
       "  border: var(--sklearn-color-fitted-level-1) 1pt solid;\n",
       "  color: var(--sklearn-color-fitted-level-1);\n",
       "}\n",
       "\n",
       "/* On hover */\n",
       "div.sk-estimator:hover .sk-estimator-doc-link:hover,\n",
       ".sk-estimator-doc-link:hover,\n",
       "div.sk-label-container:hover .sk-estimator-doc-link:hover,\n",
       ".sk-estimator-doc-link:hover {\n",
       "  /* unfitted */\n",
       "  background-color: var(--sklearn-color-unfitted-level-3);\n",
       "  color: var(--sklearn-color-background);\n",
       "  text-decoration: none;\n",
       "}\n",
       "\n",
       "div.sk-estimator.fitted:hover .sk-estimator-doc-link.fitted:hover,\n",
       ".sk-estimator-doc-link.fitted:hover,\n",
       "div.sk-label-container:hover .sk-estimator-doc-link.fitted:hover,\n",
       ".sk-estimator-doc-link.fitted:hover {\n",
       "  /* fitted */\n",
       "  background-color: var(--sklearn-color-fitted-level-3);\n",
       "  color: var(--sklearn-color-background);\n",
       "  text-decoration: none;\n",
       "}\n",
       "\n",
       "/* Span, style for the box shown on hovering the info icon */\n",
       ".sk-estimator-doc-link span {\n",
       "  display: none;\n",
       "  z-index: 9999;\n",
       "  position: relative;\n",
       "  font-weight: normal;\n",
       "  right: .2ex;\n",
       "  padding: .5ex;\n",
       "  margin: .5ex;\n",
       "  width: min-content;\n",
       "  min-width: 20ex;\n",
       "  max-width: 50ex;\n",
       "  color: var(--sklearn-color-text);\n",
       "  box-shadow: 2pt 2pt 4pt #999;\n",
       "  /* unfitted */\n",
       "  background: var(--sklearn-color-unfitted-level-0);\n",
       "  border: .5pt solid var(--sklearn-color-unfitted-level-3);\n",
       "}\n",
       "\n",
       ".sk-estimator-doc-link.fitted span {\n",
       "  /* fitted */\n",
       "  background: var(--sklearn-color-fitted-level-0);\n",
       "  border: var(--sklearn-color-fitted-level-3);\n",
       "}\n",
       "\n",
       ".sk-estimator-doc-link:hover span {\n",
       "  display: block;\n",
       "}\n",
       "\n",
       "/* \"?\"-specific style due to the `<a>` HTML tag */\n",
       "\n",
       "#sk-container-id-3 a.estimator_doc_link {\n",
       "  float: right;\n",
       "  font-size: 1rem;\n",
       "  line-height: 1em;\n",
       "  font-family: monospace;\n",
       "  background-color: var(--sklearn-color-background);\n",
       "  border-radius: 1rem;\n",
       "  height: 1rem;\n",
       "  width: 1rem;\n",
       "  text-decoration: none;\n",
       "  /* unfitted */\n",
       "  color: var(--sklearn-color-unfitted-level-1);\n",
       "  border: var(--sklearn-color-unfitted-level-1) 1pt solid;\n",
       "}\n",
       "\n",
       "#sk-container-id-3 a.estimator_doc_link.fitted {\n",
       "  /* fitted */\n",
       "  border: var(--sklearn-color-fitted-level-1) 1pt solid;\n",
       "  color: var(--sklearn-color-fitted-level-1);\n",
       "}\n",
       "\n",
       "/* On hover */\n",
       "#sk-container-id-3 a.estimator_doc_link:hover {\n",
       "  /* unfitted */\n",
       "  background-color: var(--sklearn-color-unfitted-level-3);\n",
       "  color: var(--sklearn-color-background);\n",
       "  text-decoration: none;\n",
       "}\n",
       "\n",
       "#sk-container-id-3 a.estimator_doc_link.fitted:hover {\n",
       "  /* fitted */\n",
       "  background-color: var(--sklearn-color-fitted-level-3);\n",
       "}\n",
       "</style><div id=\"sk-container-id-3\" class=\"sk-top-container\"><div class=\"sk-text-repr-fallback\"><pre>RandomForestRegressor(random_state=1910)</pre><b>In a Jupyter environment, please rerun this cell to show the HTML representation or trust the notebook. <br />On GitHub, the HTML representation is unable to render, please try loading this page with nbviewer.org.</b></div><div class=\"sk-container\" hidden><div class=\"sk-item\"><div class=\"sk-estimator fitted sk-toggleable\"><input class=\"sk-toggleable__control sk-hidden--visually\" id=\"sk-estimator-id-3\" type=\"checkbox\" checked><label for=\"sk-estimator-id-3\" class=\"sk-toggleable__label fitted sk-toggleable__label-arrow\"><div><div>RandomForestRegressor</div></div><div><a class=\"sk-estimator-doc-link fitted\" rel=\"noreferrer\" target=\"_blank\" href=\"https://scikit-learn.org/1.6/modules/generated/sklearn.ensemble.RandomForestRegressor.html\">?<span>Documentation for RandomForestRegressor</span></a><span class=\"sk-estimator-doc-link fitted\">i<span>Fitted</span></span></div></label><div class=\"sk-toggleable__content fitted\"><pre>RandomForestRegressor(random_state=1910)</pre></div> </div></div></div></div>"
      ],
      "text/plain": [
       "RandomForestRegressor(random_state=1910)"
      ]
     },
     "execution_count": 97,
     "metadata": {},
     "output_type": "execute_result"
    }
   ],
   "source": [
    "from sklearn.ensemble import RandomForestRegressor\n",
    "\n",
    "rf = RandomForestRegressor(\n",
    "                        # n_estimators=200,\n",
    "                        # max_depth=30,\n",
    "                        random_state=random_state)\n",
    "\n",
    "rf.fit(X_train, y_train)"
   ]
  },
  {
   "cell_type": "code",
   "execution_count": 98,
   "metadata": {
    "colab": {
     "base_uri": "https://localhost:8080/"
    },
    "executionInfo": {
     "elapsed": 492276,
     "status": "ok",
     "timestamp": 1738091574340,
     "user": {
      "displayName": "Kaike dos Santos Vieira",
      "userId": "04975263776408671912"
     },
     "user_tz": 300
    },
    "id": "LNsMfcZiLOex",
    "outputId": "2d91f5d7-05fa-4054-fcc9-4d11205fa01c"
   },
   "outputs": [
    {
     "name": "stdout",
     "output_type": "stream",
     "text": [
      "Mean Absolute Error:  23.659897274427657\n"
     ]
    }
   ],
   "source": [
    "from sklearn.metrics import mean_absolute_error\n",
    "\n",
    "predictions = rf.predict(X_val)\n",
    "mae = mean_absolute_error(y_val, predictions)\n",
    "print(\"Mean Absolute Error: \", mae)"
   ]
  },
  {
   "cell_type": "code",
   "execution_count": 99,
   "metadata": {
    "id": "-uxInYTTLOex",
    "outputId": "5eb40468-2b06-4316-d4e1-65c76dc0f0f0"
   },
   "outputs": [
    {
     "data": {
      "text/plain": [
       "4.127584268080138"
      ]
     },
     "execution_count": 99,
     "metadata": {},
     "output_type": "execute_result"
    }
   ],
   "source": [
    "# Compute WMAE\n",
    "def calculate_wmae(actual, predicted, weights):\n",
    "    return np.sum(weights * np.abs(actual - predicted)) / np.sum(weights)\n",
    "calculate_wmae(y_val, predictions, weights['weight'])"
   ]
  },
  {
   "cell_type": "code",
   "execution_count": 100,
   "metadata": {
    "id": "RWRdZnrSLOex",
    "outputId": "cf58e802-5781-47ee-8dfc-11808a06b442"
   },
   "outputs": [
    {
     "data": {
      "image/png": "[encoded data removed]",
      "text/plain": [
       "<Figure size 640x480 with 1 Axes>"
      ]
     },
     "metadata": {},
     "output_type": "display_data"
    }
   ],
   "source": [
    "#check feature importance\n",
    "reg_importances = pd.DataFrame(rf.feature_importances_, X.columns)\n",
    "fig, ax = plt.subplots()\n",
    "reg_importances.plot.bar(ax=ax, legend=False)\n",
    "ax.set_title(\"Feature importances using MDI\")  # mean decrease in impurity\n",
    "ax.set_ylabel(\"Mean decrease in impurity\")\n",
    "fig.tight_layout()"
   ]
  },
  {
   "cell_type": "markdown",
   "metadata": {
    "id": "Dr9VDu31LOex"
   },
   "source": [
    "### Export / Load Model with Joblib"
   ]
  },
  {
   "cell_type": "code",
   "execution_count": null,
   "metadata": {
    "id": "ye1c5-i5LOex"
   },
   "outputs": [],
   "source": [
    "import joblib  # or simply `import joblib` in newer versions"
   ]
  },
  {
   "cell_type": "code",
   "execution_count": null,
   "metadata": {
    "id": "uA-cZiO6LOex"
   },
   "outputs": [],
   "source": [
    "# # Export\n",
    "# # Assuming `rf` is your trained model\n",
    "# joblib.dump(rf, f'rf_model_mae_{round(mae, 2)}.pkl')\n",
    "# print(\"Model saved successfully!\")"
   ]
  },
  {
   "cell_type": "code",
   "execution_count": null,
   "metadata": {
    "id": "RWZB8Mw4LOex",
    "outputId": "5ef1c36c-9f63-4d40-8b1b-df23be382604"
   },
   "outputs": [
    {
     "name": "stdout",
     "output_type": "stream",
     "text": [
      "Model loaded successfully!\n"
     ]
    }
   ],
   "source": [
    "# # import\n",
    "# rf = joblib.load(r\"D:\\Data Analytics for Business\\Term 4 - 2025 Winter\\rf_model_mae_19.38.pkl\")\n",
    "# print(\"Model loaded successfully!\")"
   ]
  },
  {
   "cell_type": "markdown",
   "metadata": {
    "id": "PVgwjsWJLOex"
   },
   "source": [
    "## 5.3 XGBoost"
   ]
  },
  {
   "cell_type": "code",
   "execution_count": null,
   "metadata": {
    "colab": {
     "base_uri": "https://localhost:8080/"
    },
    "executionInfo": {
     "elapsed": 2163065,
     "status": "ok",
     "timestamp": 1738098961270,
     "user": {
      "displayName": "Kaike dos Santos Vieira",
      "userId": "04975263776408671912"
     },
     "user_tz": 300
    },
    "id": "aY9CuUG7McjA",
    "outputId": "dcf5cda2-e75f-47b7-c153-1b0eaa883de2"
   },
   "outputs": [
    {
     "name": "stdout",
     "output_type": "stream",
     "text": [
      "Mean Absolute Error: 21.056514918206304\n"
     ]
    }
   ],
   "source": [
    "from xgboost import XGBRegressor\n",
    "from sklearn.metrics import mean_absolute_error\n",
    "\n",
    "# Train XGBoost model\n",
    "model = XGBRegressor(\n",
    "    objective='reg:squarederror',\n",
    "    n_estimators=200,\n",
    "    max_depth=30,\n",
    "    learning_rate=0.1,\n",
    "    random_state=random_state\n",
    ")\n",
    "\n",
    "model.fit(X_train, y_train)\n",
    "\n",
    "# Evaluate the model\n",
    "preds = model.predict(X_val)\n",
    "mae = mean_absolute_error(y_val, preds)\n",
    "print(f'Mean Absolute Error: {mae}')"
   ]
  },
  {
   "cell_type": "code",
   "execution_count": null,
   "metadata": {
    "colab": {
     "base_uri": "https://localhost:8080/"
    },
    "executionInfo": {
     "elapsed": 238,
     "status": "ok",
     "timestamp": 1738099543685,
     "user": {
      "displayName": "Kaike dos Santos Vieira",
      "userId": "04975263776408671912"
     },
     "user_tz": 300
    },
    "id": "fuH8U1F-zhb6",
    "outputId": "394557c8-e5b6-4d52-80af-3df7734b53b7"
   },
   "outputs": [
    {
     "data": {
      "text/plain": [
       "3.3542492606750116"
      ]
     },
     "execution_count": 16,
     "metadata": {},
     "output_type": "execute_result"
    }
   ],
   "source": [
    "# Compute WMAE\n",
    "def calculate_wmae(actual, predicted, weights):\n",
    "    return np.sum(weights * np.abs(actual - predicted)) / np.sum(weights)\n",
    "calculate_wmae(y_val, preds, weights['weight'])"
   ]
  },
  {
   "cell_type": "markdown",
   "metadata": {
    "id": "_vs2B6UKLOe1"
   },
   "source": [
    "### Randomized Search\n"
   ]
  },
  {
   "cell_type": "code",
   "execution_count": null,
   "metadata": {
    "id": "CRu8QBM7M2Kh"
   },
   "outputs": [],
   "source": [
    "from sklearn.model_selection import RandomizedSearchCV\n",
    "import numpy as np\n",
    "\n",
    "# Define parameter distribution\n",
    "param_dist = {\n",
    "    \"learning_rate\": np.linspace(0.01, 0.3, 10),\n",
    "    \"max_depth\": np.arange(3, 10),\n",
    "    \"n_estimators\": np.arange(50, 300, 50),\n",
    "    # \"subsample\": [0.6, 0.8, 1.0],\n",
    "    # \"colsample_bytree\": [0.6, 0.8, 1.0]\n",
    "}\n",
    "\n",
    "# Initialize XGBoost Regressor\n",
    "xgb_reg = XGBRegressor(objective=\"reg:squarederror\")\n",
    "\n",
    "# Randomized Search\n",
    "random_search = RandomizedSearchCV(xgb_reg, param_dist,\n",
    "                                   n_iter=20, cv=5,\n",
    "                                   scoring=\"neg_mean_squared_error\", n_jobs=-1,\n",
    "                                   random_state=random_state)\n",
    "random_search.fit(X_train, y_train)\n",
    "\n",
    "# Best parameters\n",
    "print(\"Best Parameters:\", random_search.best_params_)"
   ]
  },
  {
   "cell_type": "markdown",
   "metadata": {
    "id": "fNjAPoV6LOe1"
   },
   "source": [
    "### Grid Search CV\n"
   ]
  },
  {
   "cell_type": "code",
   "execution_count": null,
   "metadata": {
    "id": "CnmHjEuQLOe1",
    "outputId": "5504df0e-3247-421a-c700-ebfea2ba680b"
   },
   "outputs": [
    {
     "name": "stdout",
     "output_type": "stream",
     "text": [
      "Fitting 3 folds for each of 12 candidates, totalling 36 fits\n",
      "Best Parameters: {'max_depth': 30, 'n_estimators': 200}\n"
     ]
    }
   ],
   "source": [
    "from sklearn.model_selection import GridSearchCV\n",
    "\n",
    "# Define the parameter grid\n",
    "param_grid = {\n",
    "    'n_estimators': [100, 200, 500],           # Number of trees in the forest\n",
    "    'max_depth': [10, 20, 30, None],           # Maximum depth of the trees\n",
    "    'min_samples_split': [2, 5, 10],           # Minimum number of samples to split a node\n",
    "    'min_samples_leaf': [1, 2, 4],             # Minimum number of samples at a leaf node\n",
    "    'max_features': ['auto', 'sqrt', 'log2'],  # Number of features considered for splitting\n",
    "    'bootstrap': [True, False],                # Whether bootstrap samples are used\n",
    "}\n",
    "\n",
    "# Grid search with cross-validation\n",
    "grid_search = GridSearchCV(\n",
    "    estimator=rf,\n",
    "    param_grid=param_grid,\n",
    "    cv=3,  # 3-fold cross-validation\n",
    "    scoring='neg_mean_squared_error',\n",
    "    verbose=2,\n",
    "    n_jobs=-1  # Use all available CPUs\n",
    ")\n",
    "\n",
    "# Fit the grid search\n",
    "grid_search.fit(X_train, y_train)\n",
    "\n",
    "# Display best parameters\n",
    "print(\"Best Parameters:\", grid_search.best_params_)"
   ]
  },
  {
   "cell_type": "markdown",
   "metadata": {
    "id": "soef7HB7LOe2"
   },
   "source": [
    "# 6. Solution"
   ]
  },
  {
   "cell_type": "code",
   "execution_count": null,
   "metadata": {
    "id": "L9ofI3u5LOe2"
   },
   "outputs": [],
   "source": [
    "# drop date from test\n",
    "sales_test.drop(columns=['date'], axis=1, inplace=True)"
   ]
  },
  {
   "cell_type": "code",
   "execution_count": null,
   "metadata": {
    "id": "Gn4Yq8XCYSiQ"
   },
   "outputs": [],
   "source": [
    "# predict test\n",
    "solution['sales_hat'] = rf.predict(sales_test).round(2)"
   ]
  },
  {
   "cell_type": "code",
   "execution_count": null,
   "metadata": {
    "id": "zXpuwX0oLOe2"
   },
   "outputs": [],
   "source": [
    "#Export final solution\n",
    "solution.to_csv(f'{path}solution_mae{round(mae, 2)}.csv', index=False)"
   ]
  },
  {
   "cell_type": "code",
   "execution_count": null,
   "metadata": {
    "id": "f7Mh_7_eM2Ki",
    "outputId": "a7394d29-1385-4508-eb05-9df9605340a4"
   },
   "outputs": [
    {
     "data": {
      "text/html": [
       "<div>\n",
       "<style scoped>\n",
       "    .dataframe tbody tr th:only-of-type {\n",
       "        vertical-align: middle;\n",
       "    }\n",
       "\n",
       "    .dataframe tbody tr th {\n",
       "        vertical-align: top;\n",
       "    }\n",
       "\n",
       "    .dataframe thead th {\n",
       "        text-align: right;\n",
       "    }\n",
       "</style>\n",
       "<table border=\"1\" class=\"dataframe\">\n",
       "  <thead>\n",
       "    <tr style=\"text-align: right;\">\n",
       "      <th></th>\n",
       "      <th>id</th>\n",
       "      <th>sales_hat</th>\n",
       "    </tr>\n",
       "  </thead>\n",
       "  <tbody>\n",
       "    <tr>\n",
       "      <th>0</th>\n",
       "      <td>1226_2024-06-03</td>\n",
       "      <td>19.09</td>\n",
       "    </tr>\n",
       "    <tr>\n",
       "      <th>1</th>\n",
       "      <td>1226_2024-06-11</td>\n",
       "      <td>152.21</td>\n",
       "    </tr>\n",
       "    <tr>\n",
       "      <th>2</th>\n",
       "      <td>1226_2024-06-13</td>\n",
       "      <td>147.68</td>\n",
       "    </tr>\n",
       "    <tr>\n",
       "      <th>3</th>\n",
       "      <td>1226_2024-06-15</td>\n",
       "      <td>116.61</td>\n",
       "    </tr>\n",
       "    <tr>\n",
       "      <th>4</th>\n",
       "      <td>1226_2024-06-09</td>\n",
       "      <td>26.00</td>\n",
       "    </tr>\n",
       "  </tbody>\n",
       "</table>\n",
       "</div>"
      ],
      "text/plain": [
       "                id  sales_hat\n",
       "0  1226_2024-06-03      19.09\n",
       "1  1226_2024-06-11     152.21\n",
       "2  1226_2024-06-13     147.68\n",
       "3  1226_2024-06-15     116.61\n",
       "4  1226_2024-06-09      26.00"
      ]
     },
     "execution_count": 27,
     "metadata": {},
     "output_type": "execute_result"
    }
   ],
   "source": [
    "solution.head()"
   ]
  },
  {
   "cell_type": "code",
   "execution_count": null,
   "metadata": {
    "id": "O5XbPMwjM2Ki",
    "outputId": "f312f2cd-663c-4342-bd30-fe3192234175"
   },
   "outputs": [
    {
     "name": "stdout",
     "output_type": "stream",
     "text": [
      "2024-06-02\n",
      "2020-08-01\n",
      "2024-06-16\n",
      "2024-06-03\n"
     ]
    }
   ],
   "source": [
    "print(sales_train['date'].max())\n",
    "print(sales_train['date'].min())\n",
    "print(sales_test['date'].max())\n",
    "print(sales_test['date'].min())\n"
   ]
  }
 ],
 "metadata": {
  "accelerator": "TPU",
  "colab": {
   "collapsed_sections": [
    "8sjm8lBaLOem",
    "0opgBH9ILOes",
    "PVgwjsWJLOex",
    "soef7HB7LOe2"
   ],
   "gpuType": "V28",
   "provenance": []
  },
  "kernelspec": {
   "display_name": "Python 3",
   "name": "python3"
  },
  "language_info": {
   "codemirror_mode": {
    "name": "ipython",
    "version": 3
   },
   "file_extension": ".py",
   "mimetype": "text/x-python",
   "name": "python",
   "nbconvert_exporter": "python",
   "pygments_lexer": "ipython3",
   "version": "3.12.1"
  }
 },
 "nbformat": 4,
 "nbformat_minor": 0
}
